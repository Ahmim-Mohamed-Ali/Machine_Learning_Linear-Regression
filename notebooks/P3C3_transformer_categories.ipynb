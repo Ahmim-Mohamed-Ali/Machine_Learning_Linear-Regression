{
 "cells": [
  {
   "cell_type": "markdown",
   "id": "66f5e734-dd78-49a0-8099-a53dfb9c754d",
   "metadata": {},
   "source": [
    "# P3C3 Transformer les catégories textuelles\n",
    "\n",
    "[![Open In Colab](https://colab.research.google.com/assets/colab-badge.svg)](https://colab.research.google.com/github/OpenClassrooms-Student-Center/8063076-Initiez-vous-au-Machine-Learning/blob/master/notebooks/P3C3_transformer_categories.ipynb)\n",
    "\n",
    "Dans ce notebook nous allons nous attaquer aux problèmes des catégories textuelles qu'il faut numériser pour qu'elles soient compatible avec les modèles.\n",
    "\n",
    "Nous travaillons sur le dataset des arbres de Paris\n",
    "\n",
    "\n",
    "Vous trouverez les versions suivantes du datasets\n",
    "\n",
    "- sur le site [opendata de Paris](https://opendata.paris.fr/explore/dataset/les-arbres/information)\n",
    "- version [brute](https://github.com/OpenClassrooms-Student-Center/8063076-Initiez-vous-au-Machine-Learning/blob/master/data/paris-arbres-2023-09-07.csv) extraite le 10-09-2023, le séparateur est ';'\n",
    "- version [exploitable](https://github.com/OpenClassrooms-Student-Center/8063076-Initiez-vous-au-Machine-Learning/blob/master/data/paris-arbres-clean-2023-09-10.csv): les colonnes ont été renommées, le séparateur est ','\n",
    "\n",
    "\n",
    "Ici nous travaillons sur cette version _exploitable_\n"
   ]
  },
  {
   "cell_type": "code",
   "execution_count": 38,
   "id": "aa46bb44-a446-4b3c-ae69-a7a0164ced5b",
   "metadata": {},
   "outputs": [],
   "source": [
    "import pandas as pd\n",
    "import matplotlib.pyplot as plt\n",
    "import numpy as np"
   ]
  },
  {
   "cell_type": "code",
   "execution_count": 39,
   "id": "3a63c804-a90d-48b5-8d05-ac0041cf46e9",
   "metadata": {},
   "outputs": [
    {
     "name": "stderr",
     "output_type": "stream",
     "text": [
      "/var/folders/31/b9pwgxyd4rz86p81hzwb44bm0000gn/T/ipykernel_30819/3663920932.py:2: DtypeWarning: Columns (0,4) have mixed types. Specify dtype option on import or set low_memory=False.\n",
      "  data = pd.read_csv(dataset_url)\n"
     ]
    },
    {
     "data": {
      "text/plain": [
       "(42588, 16)"
      ]
     },
     "execution_count": 39,
     "metadata": {},
     "output_type": "execute_result"
    }
   ],
   "source": [
    "dataset_url = \"https://raw.githubusercontent.com/OpenClassrooms-Student-Center/8063076-Initiez-vous-au-Machine-Learning/master/data/paris-arbres-clean-2023-09-10.csv\"\n",
    "data = pd.read_csv(dataset_url)\n",
    "df = data[data.libelle_francais == 'Platane'].copy()\n",
    "df.shape"
   ]
  },
  {
   "cell_type": "markdown",
   "id": "0b4ce0bd-545b-4a0b-807c-204dff685688",
   "metadata": {},
   "source": [
    "## Numérisation manuelle\n",
    "\n"
   ]
  },
  {
   "cell_type": "code",
   "execution_count": 40,
   "id": "69db8fb5-359a-4167-a6b6-b5d8453ad9b1",
   "metadata": {},
   "outputs": [
    {
     "name": "stdout",
     "output_type": "stream",
     "text": [
      "Adulte => 1\n",
      "Jeune (arbre)Adulte => 2\n",
      "Jeune (arbre) => 3\n",
      "Mature => 4\n",
      "\n",
      "stade_de_developpement\n",
      "1      21620\n",
      "2       8356\n",
      "3       5916\n",
      "NaN     3350\n",
      "4       3346\n",
      "Name: count, dtype: int64\n"
     ]
    }
   ],
   "source": [
    "categories = ['Adulte', 'Jeune (arbre)Adulte', 'Jeune (arbre)', 'Mature']\n",
    "\n",
    "for n, categorie in zip(range(1,len(categories)+1), categories):\n",
    "    print(categorie,\"=>\", n)\n",
    "    df.loc[df.stade_de_developpement == categorie, 'stade_de_developpement'] = n\n",
    "\n",
    "print()\n",
    "print(df.stade_de_developpement.value_counts(dropna = False))"
   ]
  },
  {
   "cell_type": "markdown",
   "id": "40886c15-5fab-4680-b72d-97dd6d8d002a",
   "metadata": {},
   "source": [
    "## Avec OrdinalEncoder\n",
    "\n",
    "de la librairie category_encoder"
   ]
  },
  {
   "cell_type": "code",
   "execution_count": 41,
   "id": "849e0d10-2bc8-4e9c-84f4-7ab53d78957c",
   "metadata": {},
   "outputs": [
    {
     "data": {
      "text/plain": [
       "stade_de_developpement\n",
       "3                         21620\n",
       "2                          8356\n",
       "1                          5916\n",
       "0                          3350\n",
       "4                          3346\n",
       "Name: count, dtype: int64"
      ]
     },
     "execution_count": 41,
     "metadata": {},
     "output_type": "execute_result"
    }
   ],
   "source": [
    "from category_encoders.ordinal import OrdinalEncoder\n",
    "\n",
    "df = data[data.libelle_francais == 'Platane'].copy()\n",
    "\n",
    "\n",
    "mapping =[ {'col': 'stade_de_developpement',\n",
    "\t'mapping': {\n",
    "            \tnp.nan: 0,\n",
    "            \t'Jeune (arbre)': 1,\n",
    "            \t'Jeune (arbre)Adulte': 2,\n",
    "            \t'Adulte': 3,\n",
    "            \t'Mature': 4\n",
    "            \t}\n",
    "        \t} ]\n",
    "\n",
    "encoder = OrdinalEncoder(mapping=mapping)\n",
    "stade = encoder.fit_transform(df.stade_de_developpement)\n",
    "stade.value_counts(dropna = False)"
   ]
  },
  {
   "cell_type": "markdown",
   "id": "1502375e-bab7-4a88-bea5-ea814af8d169",
   "metadata": {},
   "source": [
    "## L'encodage one-hot\n",
    "\n",
    "Encodons toutes les 9 valeurs de la variable domanialite"
   ]
  },
  {
   "cell_type": "code",
   "execution_count": 42,
   "id": "f3a262fd-04f7-422f-8cb3-ee7fe33b71d1",
   "metadata": {},
   "outputs": [],
   "source": [
    "# enlevons les echantillons pour lesquels domanialite manque\n",
    "df = df[~df.domanialite.isna()].copy()\n",
    "df.reset_index(drop = True, inplace = True)"
   ]
  },
  {
   "cell_type": "code",
   "execution_count": 43,
   "id": "44a78327-12b1-4078-b028-f4c55f883245",
   "metadata": {},
   "outputs": [
    {
     "data": {
      "text/plain": [
       "(42588, 9)"
      ]
     },
     "execution_count": 43,
     "metadata": {},
     "output_type": "execute_result"
    }
   ],
   "source": [
    "from sklearn import preprocessing\n",
    "enc = preprocessing.OneHotEncoder()\n",
    "labels = enc.fit_transform(df.domanialite.values.reshape(-1, 1)).toarray()\n",
    "labels.shape\n"
   ]
  },
  {
   "cell_type": "code",
   "execution_count": 44,
   "id": "8913ef28-b445-4ad8-abc9-25d3a003aef5",
   "metadata": {},
   "outputs": [
    {
     "data": {
      "text/plain": [
       "array([[1., 0., 0., ..., 0., 0., 0.],\n",
       "       [1., 0., 0., ..., 0., 0., 0.],\n",
       "       [1., 0., 0., ..., 0., 0., 0.],\n",
       "       ...,\n",
       "       [1., 0., 0., ..., 0., 0., 0.],\n",
       "       [1., 0., 0., ..., 0., 0., 0.],\n",
       "       [1., 0., 0., ..., 0., 0., 0.]])"
      ]
     },
     "execution_count": 44,
     "metadata": {},
     "output_type": "execute_result"
    }
   ],
   "source": [
    "labels"
   ]
  },
  {
   "cell_type": "code",
   "execution_count": 45,
   "id": "f771eb2c-316f-4838-978a-0bf4550b43ab",
   "metadata": {},
   "outputs": [
    {
     "data": {
      "text/plain": [
       "['is_alignement',\n",
       " 'is_cimetiere',\n",
       " 'is_jardin',\n",
       " 'is_dasco',\n",
       " 'is_peripherique',\n",
       " 'is_djs',\n",
       " 'is_dfpe',\n",
       " 'is_dases',\n",
       " 'is_dac']"
      ]
     },
     "execution_count": 45,
     "metadata": {},
     "output_type": "execute_result"
    }
   ],
   "source": [
    "new_columns = [ f\"is_{col.lower()}\" for col in df.domanialite.unique()   ]\n",
    "new_columns\n"
   ]
  },
  {
   "cell_type": "code",
   "execution_count": 46,
   "id": "51439825-51f6-479c-897a-30bacc0a045f",
   "metadata": {},
   "outputs": [],
   "source": [
    "df = pd.concat([df, \n",
    "        pd.DataFrame(columns = new_columns[:-1], data = labels[:, :-1])], \n",
    "        axis = 1)"
   ]
  },
  {
   "cell_type": "code",
   "execution_count": 53,
   "id": "78495f19-f0e1-4b72-8a8b-d17fc8ab78be",
   "metadata": {},
   "outputs": [],
   "source": [
    "\n",
    "for col in new_columns[:-1]:\n",
    "    df[col] = df[col].astype(int)"
   ]
  },
  {
   "cell_type": "code",
   "execution_count": 54,
   "id": "b755504a-c0c8-48c3-88ab-2da5b9872cd7",
   "metadata": {},
   "outputs": [
    {
     "data": {
      "text/html": [
       "<div>\n",
       "<style scoped>\n",
       "    .dataframe tbody tr th:only-of-type {\n",
       "        vertical-align: middle;\n",
       "    }\n",
       "\n",
       "    .dataframe tbody tr th {\n",
       "        vertical-align: top;\n",
       "    }\n",
       "\n",
       "    .dataframe thead th {\n",
       "        text-align: right;\n",
       "    }\n",
       "</style>\n",
       "<table border=\"1\" class=\"dataframe\">\n",
       "  <thead>\n",
       "    <tr style=\"text-align: right;\">\n",
       "      <th></th>\n",
       "      <th>domanialite</th>\n",
       "      <th>is_alignement</th>\n",
       "      <th>is_cimetiere</th>\n",
       "      <th>is_jardin</th>\n",
       "      <th>is_dasco</th>\n",
       "      <th>is_peripherique</th>\n",
       "      <th>is_djs</th>\n",
       "      <th>is_dfpe</th>\n",
       "      <th>is_dases</th>\n",
       "    </tr>\n",
       "  </thead>\n",
       "  <tbody>\n",
       "    <tr>\n",
       "      <th>35830</th>\n",
       "      <td>Alignement</td>\n",
       "      <td>1</td>\n",
       "      <td>0</td>\n",
       "      <td>0</td>\n",
       "      <td>0</td>\n",
       "      <td>0</td>\n",
       "      <td>0</td>\n",
       "      <td>0</td>\n",
       "      <td>0</td>\n",
       "    </tr>\n",
       "    <tr>\n",
       "      <th>38285</th>\n",
       "      <td>Alignement</td>\n",
       "      <td>1</td>\n",
       "      <td>0</td>\n",
       "      <td>0</td>\n",
       "      <td>0</td>\n",
       "      <td>0</td>\n",
       "      <td>0</td>\n",
       "      <td>0</td>\n",
       "      <td>0</td>\n",
       "    </tr>\n",
       "    <tr>\n",
       "      <th>10698</th>\n",
       "      <td>Alignement</td>\n",
       "      <td>1</td>\n",
       "      <td>0</td>\n",
       "      <td>0</td>\n",
       "      <td>0</td>\n",
       "      <td>0</td>\n",
       "      <td>0</td>\n",
       "      <td>0</td>\n",
       "      <td>0</td>\n",
       "    </tr>\n",
       "    <tr>\n",
       "      <th>39917</th>\n",
       "      <td>CIMETIERE</td>\n",
       "      <td>0</td>\n",
       "      <td>1</td>\n",
       "      <td>0</td>\n",
       "      <td>0</td>\n",
       "      <td>0</td>\n",
       "      <td>0</td>\n",
       "      <td>0</td>\n",
       "      <td>0</td>\n",
       "    </tr>\n",
       "    <tr>\n",
       "      <th>12737</th>\n",
       "      <td>Alignement</td>\n",
       "      <td>1</td>\n",
       "      <td>0</td>\n",
       "      <td>0</td>\n",
       "      <td>0</td>\n",
       "      <td>0</td>\n",
       "      <td>0</td>\n",
       "      <td>0</td>\n",
       "      <td>0</td>\n",
       "    </tr>\n",
       "  </tbody>\n",
       "</table>\n",
       "</div>"
      ],
      "text/plain": [
       "      domanialite  is_alignement  is_cimetiere  is_jardin  is_dasco   \n",
       "35830  Alignement              1             0          0         0  \\\n",
       "38285  Alignement              1             0          0         0   \n",
       "10698  Alignement              1             0          0         0   \n",
       "39917   CIMETIERE              0             1          0         0   \n",
       "12737  Alignement              1             0          0         0   \n",
       "\n",
       "       is_peripherique  is_djs  is_dfpe  is_dases  \n",
       "35830                0       0        0         0  \n",
       "38285                0       0        0         0  \n",
       "10698                0       0        0         0  \n",
       "39917                0       0        0         0  \n",
       "12737                0       0        0         0  "
      ]
     },
     "execution_count": 54,
     "metadata": {},
     "output_type": "execute_result"
    }
   ],
   "source": [
    "df[['domanialite'] + new_columns[:-1]].sample(5, random_state = 88)"
   ]
  },
  {
   "cell_type": "markdown",
   "id": "333e273d-d7db-4938-a48e-1a43cb3671a2",
   "metadata": {},
   "source": [
    "### Omniprésence de zero\n",
    "Regardons pour chaque nouvelle variable le taux de zero \n",
    "\n"
   ]
  },
  {
   "cell_type": "code",
   "execution_count": 58,
   "id": "ca7f55a4-a0d6-4314-bb76-fddb690487ee",
   "metadata": {},
   "outputs": [
    {
     "name": "stdout",
     "output_type": "stream",
     "text": [
      " is_alignement: \t 16.06% \n",
      " is_cimetiere: \t 92.67% \n",
      " is_jardin: \t 99.98% \n",
      " is_dasco: \t 98.08% \n",
      " is_peripherique: \t 99.99% \n",
      " is_djs: \t 99.83% \n",
      " is_dfpe: \t 99.57% \n",
      " is_dases: \t 95.21% \n"
     ]
    }
   ],
   "source": [
    "for col in new_columns[:-1]:\n",
    "    print( f\" {col}: \\t {np.round(100.0*(1 - df[col].sum()/ df.shape[0]), 2)}% \"  )"
   ]
  },
  {
   "cell_type": "markdown",
   "id": "b6b4168d-5bbf-40b4-8d10-ad0c17df4de5",
   "metadata": {},
   "source": [
    "# Encodage Binaire"
   ]
  },
  {
   "cell_type": "code",
   "execution_count": 64,
   "id": "0dc6a452-ed4f-441b-8737-e83a652a5b7c",
   "metadata": {},
   "outputs": [
    {
     "name": "stdout",
     "output_type": "stream",
     "text": [
      "Il y a 560 espèces d'arbres différentes\n"
     ]
    }
   ],
   "source": [
    "print(f\"Il y a {len(data.espece.unique())} espèces d'arbres différentes\")"
   ]
  },
  {
   "cell_type": "markdown",
   "id": "17c09d66-0625-4529-8d6c-8a094a9656ad",
   "metadata": {},
   "source": [
    "Le one hot encoding va créer 559 "
   ]
  },
  {
   "cell_type": "code",
   "execution_count": 59,
   "id": "b7bbac6b-2130-4b5d-b244-ed7db4603fa3",
   "metadata": {},
   "outputs": [],
   "source": [
    "from category_encoders.binary import BinaryEncoder\n",
    "encoder = BinaryEncoder()\n",
    "espece_bin = encoder.fit_transform(data.espece)"
   ]
  },
  {
   "cell_type": "code",
   "execution_count": 61,
   "id": "588c3cdd-8587-4aed-bb10-1b56d12c874b",
   "metadata": {},
   "outputs": [
    {
     "data": {
      "text/plain": [
       "(221201, 10)"
      ]
     },
     "execution_count": 61,
     "metadata": {},
     "output_type": "execute_result"
    }
   ],
   "source": [
    "espece_bin.shape"
   ]
  },
  {
   "cell_type": "code",
   "execution_count": 62,
   "id": "a7704ba1-d8f7-406b-a4db-d9d833763f98",
   "metadata": {},
   "outputs": [
    {
     "data": {
      "text/html": [
       "<div>\n",
       "<style scoped>\n",
       "    .dataframe tbody tr th:only-of-type {\n",
       "        vertical-align: middle;\n",
       "    }\n",
       "\n",
       "    .dataframe tbody tr th {\n",
       "        vertical-align: top;\n",
       "    }\n",
       "\n",
       "    .dataframe thead th {\n",
       "        text-align: right;\n",
       "    }\n",
       "</style>\n",
       "<table border=\"1\" class=\"dataframe\">\n",
       "  <thead>\n",
       "    <tr style=\"text-align: right;\">\n",
       "      <th></th>\n",
       "      <th>espece_0</th>\n",
       "      <th>espece_1</th>\n",
       "      <th>espece_2</th>\n",
       "      <th>espece_3</th>\n",
       "      <th>espece_4</th>\n",
       "      <th>espece_5</th>\n",
       "      <th>espece_6</th>\n",
       "      <th>espece_7</th>\n",
       "      <th>espece_8</th>\n",
       "      <th>espece_9</th>\n",
       "    </tr>\n",
       "  </thead>\n",
       "  <tbody>\n",
       "    <tr>\n",
       "      <th>0</th>\n",
       "      <td>0</td>\n",
       "      <td>0</td>\n",
       "      <td>0</td>\n",
       "      <td>0</td>\n",
       "      <td>0</td>\n",
       "      <td>0</td>\n",
       "      <td>0</td>\n",
       "      <td>0</td>\n",
       "      <td>0</td>\n",
       "      <td>1</td>\n",
       "    </tr>\n",
       "    <tr>\n",
       "      <th>1</th>\n",
       "      <td>0</td>\n",
       "      <td>0</td>\n",
       "      <td>0</td>\n",
       "      <td>0</td>\n",
       "      <td>0</td>\n",
       "      <td>0</td>\n",
       "      <td>0</td>\n",
       "      <td>0</td>\n",
       "      <td>1</td>\n",
       "      <td>0</td>\n",
       "    </tr>\n",
       "    <tr>\n",
       "      <th>2</th>\n",
       "      <td>0</td>\n",
       "      <td>0</td>\n",
       "      <td>0</td>\n",
       "      <td>0</td>\n",
       "      <td>0</td>\n",
       "      <td>0</td>\n",
       "      <td>0</td>\n",
       "      <td>0</td>\n",
       "      <td>1</td>\n",
       "      <td>1</td>\n",
       "    </tr>\n",
       "    <tr>\n",
       "      <th>3</th>\n",
       "      <td>0</td>\n",
       "      <td>0</td>\n",
       "      <td>0</td>\n",
       "      <td>0</td>\n",
       "      <td>0</td>\n",
       "      <td>0</td>\n",
       "      <td>0</td>\n",
       "      <td>1</td>\n",
       "      <td>0</td>\n",
       "      <td>0</td>\n",
       "    </tr>\n",
       "    <tr>\n",
       "      <th>4</th>\n",
       "      <td>0</td>\n",
       "      <td>0</td>\n",
       "      <td>0</td>\n",
       "      <td>0</td>\n",
       "      <td>0</td>\n",
       "      <td>0</td>\n",
       "      <td>0</td>\n",
       "      <td>1</td>\n",
       "      <td>0</td>\n",
       "      <td>1</td>\n",
       "    </tr>\n",
       "  </tbody>\n",
       "</table>\n",
       "</div>"
      ],
      "text/plain": [
       "   espece_0  espece_1  espece_2  espece_3  espece_4  espece_5  espece_6   \n",
       "0         0         0         0         0         0         0         0  \\\n",
       "1         0         0         0         0         0         0         0   \n",
       "2         0         0         0         0         0         0         0   \n",
       "3         0         0         0         0         0         0         0   \n",
       "4         0         0         0         0         0         0         0   \n",
       "\n",
       "   espece_7  espece_8  espece_9  \n",
       "0         0         0         1  \n",
       "1         0         1         0  \n",
       "2         0         1         1  \n",
       "3         1         0         0  \n",
       "4         1         0         1  "
      ]
     },
     "execution_count": 62,
     "metadata": {},
     "output_type": "execute_result"
    }
   ],
   "source": [
    "espece_bin.head()"
   ]
  },
  {
   "cell_type": "markdown",
   "id": "54737602-42c5-4dcf-bd38-15eb42a6b80b",
   "metadata": {},
   "source": [
    "Donc 10 nouvelles varibles sont nécessaires pour encoder "
   ]
  }
 ],
 "metadata": {
  "kernelspec": {
   "display_name": "Python 3 (ipykernel)",
   "language": "python",
   "name": "python3"
  },
  "language_info": {
   "codemirror_mode": {
    "name": "ipython",
    "version": 3
   },
   "file_extension": ".py",
   "mimetype": "text/x-python",
   "name": "python",
   "nbconvert_exporter": "python",
   "pygments_lexer": "ipython3",
   "version": "3.11.3"
  }
 },
 "nbformat": 4,
 "nbformat_minor": 5
}
