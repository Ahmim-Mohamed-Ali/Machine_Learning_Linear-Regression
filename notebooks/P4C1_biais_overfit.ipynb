{
 "cells": [
  {
   "cell_type": "markdown",
   "id": "8f7cc2a4-c1ff-4463-bdbd-ec144d90c206",
   "metadata": {},
   "source": [
    "# P4C1 Améliorez le modèle\n",
    "\n",
    "[![Open In Colab](https://colab.research.google.com/assets/colab-badge.svg)](https://colab.research.google.com/github/OpenClassrooms-Student-Center/8063076-Initiez-vous-au-Machine-Learning/blob/master/notebooks/P4C1_overfit_regularisation.ipynb)\n",
    "\n",
    "Dans ce notebook nous allons travailler sur les problèmes de biais (sous apprentissage) et d'overfit (sur-apprentissage) des modèles. \n",
    "\n",
    "Nous travaillons sur le dataset des arbres de Paris\n",
    "\n",
    "Vous trouverez les versions suivantes du datasets\n",
    "\n",
    "- sur le site [opendata de Paris](https://opendata.paris.fr/explore/dataset/les-arbres/information)\n",
    "- version [brute](https://github.com/OpenClassrooms-Student-Center/8063076-Initiez-vous-au-Machine-Learning/blob/master/data/paris-arbres-2023-09-07.csv) extraite le 10-09-2023, le séparateur est ';'\n",
    "- version [exploitable](https://github.com/OpenClassrooms-Student-Center/8063076-Initiez-vous-au-Machine-Learning/blob/master/data/paris-arbres-clean-2023-09-10.csv): les colonnes ont été renommées, le séparateur est ','\n",
    "- version [numérisée](https://raw.githubusercontent.com/OpenClassrooms-Student-Center/8063076-Initiez-vous-au-Machine-Learning/master/data/paris-arbres-numerical-2023-09-10.csv): les colonnes ont été renommées, le séparateur est ','\n",
    "\n",
    "\n",
    "Ici nous travaillons sur cette version _numérisée_\n",
    "\n",
    "Toutefois, en avant propos, voici le code pour passer de la version _exploitable_ à la version _numérisée_"
   ]
  },
  {
   "cell_type": "code",
   "execution_count": 6,
   "id": "6df6f10a-77a1-4649-96a3-ec9cab3601da",
   "metadata": {},
   "outputs": [],
   "source": [
    "import pandas as pd\n",
    "import matplotlib.pyplot as plt\n",
    "import numpy as np\n",
    "from category_encoders.ordinal import OrdinalEncoder"
   ]
  },
  {
   "cell_type": "code",
   "execution_count": 8,
   "id": "4550d14b-10c6-4a9f-9e4a-9751f679ccf8",
   "metadata": {},
   "outputs": [
    {
     "name": "stderr",
     "output_type": "stream",
     "text": [
      "/var/folders/31/b9pwgxyd4rz86p81hzwb44bm0000gn/T/ipykernel_31462/1347578749.py:3: DtypeWarning: Columns (0,4) have mixed types. Specify dtype option on import or set low_memory=False.\n",
      "  data = pd.read_csv(dataset_url)\n"
     ]
    }
   ],
   "source": [
    "# chargeons le dataset exploitable\n",
    "dataset_url = \"https://raw.githubusercontent.com/OpenClassrooms-Student-Center/8063076-Initiez-vous-au-Machine-Learning/master/data/paris-arbres-clean-2023-09-10.csv\"\n",
    "data = pd.read_csv(dataset_url)\n"
   ]
  },
  {
   "cell_type": "code",
   "execution_count": 9,
   "id": "1b901e73-1456-479d-9248-be921dd658ce",
   "metadata": {},
   "outputs": [],
   "source": [
    "# On ne garde que les arbres non remarquables\n",
    "data = data[data.remarquable != 'OUI'].copy()\n",
    "\n",
    "# et ceux avec un stade de développement connu\n",
    "data.dropna(subset = ['stade_de_developpement'], inplace = True)\n",
    "# et une hauteur / circonference > 0\n",
    "data = data[(data.circonference_cm > 0) & (data.hauteur_m > 0)].copy()\n",
    "\n",
    "# voici les colonnes que l'on va garder, on suprime les autres\n",
    "columns = ['domanialite', 'arrondissement','libelle_francais', 'genre', 'espece','circonference_cm', 'hauteur_m', 'stade_de_developpement']\n",
    "\n",
    "data = data[columns]\n",
    "\n",
    "# encodage ordinal du stade de developpement qui respecte l'ordre des stades\n",
    "target = 'stade_de_developpement'\n",
    "\n",
    "mapping =[ {'col': 'stade_de_developpement',\n",
    "    'mapping': {\n",
    "                'Jeune (arbre)': 1,\n",
    "                'Jeune (arbre)Adulte': 2,\n",
    "                'Adulte': 3,\n",
    "                'Mature': 4\n",
    "                }\n",
    "            } ]\n",
    "\n",
    "target_encoder = OrdinalEncoder(mapping = mapping)\n",
    "\n",
    "y = target_encoder.fit_transform(data[target]).stade_de_developpement\n",
    "\n",
    "# encodage ordinal des variables categoriques\n",
    "categorical = ['domanialite', 'arrondissement', 'libelle_francais', 'genre', 'espece']\n",
    "encoder = OrdinalEncoder(cols = categorical)\n",
    "numeric = encoder.fit_transform(data[categorical])\n",
    "\n",
    "data = pd.concat([numeric[categorical], data[['circonference_cm', 'hauteur_m']], y  ], axis = 1)\n",
    "\n",
    "data = data.sample(frac = 1, random_state = 808)\n",
    "data.reset_index(inplace = True, drop = True)"
   ]
  },
  {
   "cell_type": "code",
   "execution_count": 10,
   "id": "c51c686a-fae0-49cb-b081-e22e3424d6d9",
   "metadata": {},
   "outputs": [
    {
     "data": {
      "text/plain": [
       "(159388, 8)"
      ]
     },
     "execution_count": 10,
     "metadata": {},
     "output_type": "execute_result"
    }
   ],
   "source": [
    "# On a \n",
    "data.shape"
   ]
  },
  {
   "cell_type": "code",
   "execution_count": 11,
   "id": "21cfe159-da07-4c2a-aff6-300355d077e6",
   "metadata": {},
   "outputs": [
    {
     "data": {
      "text/html": [
       "<div>\n",
       "<style scoped>\n",
       "    .dataframe tbody tr th:only-of-type {\n",
       "        vertical-align: middle;\n",
       "    }\n",
       "\n",
       "    .dataframe tbody tr th {\n",
       "        vertical-align: top;\n",
       "    }\n",
       "\n",
       "    .dataframe thead th {\n",
       "        text-align: right;\n",
       "    }\n",
       "</style>\n",
       "<table border=\"1\" class=\"dataframe\">\n",
       "  <thead>\n",
       "    <tr style=\"text-align: right;\">\n",
       "      <th></th>\n",
       "      <th>domanialite</th>\n",
       "      <th>arrondissement</th>\n",
       "      <th>libelle_francais</th>\n",
       "      <th>genre</th>\n",
       "      <th>espece</th>\n",
       "      <th>circonference_cm</th>\n",
       "      <th>hauteur_m</th>\n",
       "      <th>stade_de_developpement</th>\n",
       "    </tr>\n",
       "  </thead>\n",
       "  <tbody>\n",
       "    <tr>\n",
       "      <th>0</th>\n",
       "      <td>1</td>\n",
       "      <td>8</td>\n",
       "      <td>30</td>\n",
       "      <td>18</td>\n",
       "      <td>36</td>\n",
       "      <td>65.0</td>\n",
       "      <td>8.0</td>\n",
       "      <td>2</td>\n",
       "    </tr>\n",
       "    <tr>\n",
       "      <th>1</th>\n",
       "      <td>1</td>\n",
       "      <td>8</td>\n",
       "      <td>2</td>\n",
       "      <td>2</td>\n",
       "      <td>2</td>\n",
       "      <td>25.0</td>\n",
       "      <td>5.0</td>\n",
       "      <td>1</td>\n",
       "    </tr>\n",
       "    <tr>\n",
       "      <th>2</th>\n",
       "      <td>3</td>\n",
       "      <td>7</td>\n",
       "      <td>10</td>\n",
       "      <td>10</td>\n",
       "      <td>12</td>\n",
       "      <td>140.0</td>\n",
       "      <td>10.0</td>\n",
       "      <td>3</td>\n",
       "    </tr>\n",
       "    <tr>\n",
       "      <th>3</th>\n",
       "      <td>3</td>\n",
       "      <td>7</td>\n",
       "      <td>5</td>\n",
       "      <td>5</td>\n",
       "      <td>14</td>\n",
       "      <td>105.0</td>\n",
       "      <td>10.0</td>\n",
       "      <td>3</td>\n",
       "    </tr>\n",
       "    <tr>\n",
       "      <th>4</th>\n",
       "      <td>3</td>\n",
       "      <td>16</td>\n",
       "      <td>4</td>\n",
       "      <td>4</td>\n",
       "      <td>18</td>\n",
       "      <td>263.0</td>\n",
       "      <td>25.0</td>\n",
       "      <td>4</td>\n",
       "    </tr>\n",
       "  </tbody>\n",
       "</table>\n",
       "</div>"
      ],
      "text/plain": [
       "   domanialite  arrondissement  libelle_francais  genre  espece   \n",
       "0            1               8                30     18      36  \\\n",
       "1            1               8                 2      2       2   \n",
       "2            3               7                10     10      12   \n",
       "3            3               7                 5      5      14   \n",
       "4            3              16                 4      4      18   \n",
       "\n",
       "   circonference_cm  hauteur_m  stade_de_developpement  \n",
       "0              65.0        8.0                       2  \n",
       "1              25.0        5.0                       1  \n",
       "2             140.0       10.0                       3  \n",
       "3             105.0       10.0                       3  \n",
       "4             263.0       25.0                       4  "
      ]
     },
     "execution_count": 11,
     "metadata": {},
     "output_type": "execute_result"
    }
   ],
   "source": [
    "data.head()"
   ]
  },
  {
   "cell_type": "code",
   "execution_count": 12,
   "id": "0541fb7f-f8ac-4393-b27c-f20d1e010d03",
   "metadata": {},
   "outputs": [
    {
     "data": {
      "text/html": [
       "<div>\n",
       "<style scoped>\n",
       "    .dataframe tbody tr th:only-of-type {\n",
       "        vertical-align: middle;\n",
       "    }\n",
       "\n",
       "    .dataframe tbody tr th {\n",
       "        vertical-align: top;\n",
       "    }\n",
       "\n",
       "    .dataframe thead th {\n",
       "        text-align: right;\n",
       "    }\n",
       "</style>\n",
       "<table border=\"1\" class=\"dataframe\">\n",
       "  <thead>\n",
       "    <tr style=\"text-align: right;\">\n",
       "      <th></th>\n",
       "      <th>domanialite</th>\n",
       "      <th>arrondissement</th>\n",
       "      <th>libelle_francais</th>\n",
       "      <th>genre</th>\n",
       "      <th>espece</th>\n",
       "      <th>circonference_cm</th>\n",
       "      <th>hauteur_m</th>\n",
       "      <th>stade_de_developpement</th>\n",
       "    </tr>\n",
       "  </thead>\n",
       "  <tbody>\n",
       "    <tr>\n",
       "      <th>count</th>\n",
       "      <td>159388.000000</td>\n",
       "      <td>159388.000000</td>\n",
       "      <td>159388.000000</td>\n",
       "      <td>159388.000000</td>\n",
       "      <td>159388.000000</td>\n",
       "      <td>159388.000000</td>\n",
       "      <td>159388.000000</td>\n",
       "      <td>159388.000000</td>\n",
       "    </tr>\n",
       "    <tr>\n",
       "      <th>mean</th>\n",
       "      <td>1.765258</td>\n",
       "      <td>9.267191</td>\n",
       "      <td>14.030623</td>\n",
       "      <td>11.420163</td>\n",
       "      <td>28.133511</td>\n",
       "      <td>94.080878</td>\n",
       "      <td>10.444902</td>\n",
       "      <td>2.350936</td>\n",
       "    </tr>\n",
       "    <tr>\n",
       "      <th>std</th>\n",
       "      <td>1.345432</td>\n",
       "      <td>5.888304</td>\n",
       "      <td>22.627699</td>\n",
       "      <td>14.854952</td>\n",
       "      <td>55.548801</td>\n",
       "      <td>59.127507</td>\n",
       "      <td>5.553221</td>\n",
       "      <td>0.879943</td>\n",
       "    </tr>\n",
       "    <tr>\n",
       "      <th>min</th>\n",
       "      <td>1.000000</td>\n",
       "      <td>1.000000</td>\n",
       "      <td>1.000000</td>\n",
       "      <td>1.000000</td>\n",
       "      <td>1.000000</td>\n",
       "      <td>1.000000</td>\n",
       "      <td>1.000000</td>\n",
       "      <td>1.000000</td>\n",
       "    </tr>\n",
       "    <tr>\n",
       "      <th>25%</th>\n",
       "      <td>1.000000</td>\n",
       "      <td>5.000000</td>\n",
       "      <td>4.000000</td>\n",
       "      <td>4.000000</td>\n",
       "      <td>4.000000</td>\n",
       "      <td>50.000000</td>\n",
       "      <td>6.000000</td>\n",
       "      <td>2.000000</td>\n",
       "    </tr>\n",
       "    <tr>\n",
       "      <th>50%</th>\n",
       "      <td>1.000000</td>\n",
       "      <td>8.000000</td>\n",
       "      <td>5.000000</td>\n",
       "      <td>5.000000</td>\n",
       "      <td>9.000000</td>\n",
       "      <td>84.000000</td>\n",
       "      <td>10.000000</td>\n",
       "      <td>3.000000</td>\n",
       "    </tr>\n",
       "    <tr>\n",
       "      <th>75%</th>\n",
       "      <td>2.000000</td>\n",
       "      <td>13.000000</td>\n",
       "      <td>18.000000</td>\n",
       "      <td>17.000000</td>\n",
       "      <td>28.000000</td>\n",
       "      <td>125.000000</td>\n",
       "      <td>15.000000</td>\n",
       "      <td>3.000000</td>\n",
       "    </tr>\n",
       "    <tr>\n",
       "      <th>max</th>\n",
       "      <td>9.000000</td>\n",
       "      <td>25.000000</td>\n",
       "      <td>187.000000</td>\n",
       "      <td>159.000000</td>\n",
       "      <td>424.000000</td>\n",
       "      <td>1680.000000</td>\n",
       "      <td>710.000000</td>\n",
       "      <td>4.000000</td>\n",
       "    </tr>\n",
       "  </tbody>\n",
       "</table>\n",
       "</div>"
      ],
      "text/plain": [
       "         domanialite  arrondissement  libelle_francais          genre   \n",
       "count  159388.000000   159388.000000     159388.000000  159388.000000  \\\n",
       "mean        1.765258        9.267191         14.030623      11.420163   \n",
       "std         1.345432        5.888304         22.627699      14.854952   \n",
       "min         1.000000        1.000000          1.000000       1.000000   \n",
       "25%         1.000000        5.000000          4.000000       4.000000   \n",
       "50%         1.000000        8.000000          5.000000       5.000000   \n",
       "75%         2.000000       13.000000         18.000000      17.000000   \n",
       "max         9.000000       25.000000        187.000000     159.000000   \n",
       "\n",
       "              espece  circonference_cm      hauteur_m  stade_de_developpement  \n",
       "count  159388.000000     159388.000000  159388.000000           159388.000000  \n",
       "mean       28.133511         94.080878      10.444902                2.350936  \n",
       "std        55.548801         59.127507       5.553221                0.879943  \n",
       "min         1.000000          1.000000       1.000000                1.000000  \n",
       "25%         4.000000         50.000000       6.000000                2.000000  \n",
       "50%         9.000000         84.000000      10.000000                3.000000  \n",
       "75%        28.000000        125.000000      15.000000                3.000000  \n",
       "max       424.000000       1680.000000     710.000000                4.000000  "
      ]
     },
     "execution_count": 12,
     "metadata": {},
     "output_type": "execute_result"
    }
   ],
   "source": [
    "data.describe()"
   ]
  },
  {
   "cell_type": "code",
   "execution_count": 13,
   "id": "0fba8f7b-3cd9-40d2-a5b0-60eed6a2b643",
   "metadata": {},
   "outputs": [
    {
     "name": "stdout",
     "output_type": "stream",
     "text": [
      "<class 'pandas.core.frame.DataFrame'>\n",
      "RangeIndex: 159388 entries, 0 to 159387\n",
      "Data columns (total 8 columns):\n",
      " #   Column                  Non-Null Count   Dtype  \n",
      "---  ------                  --------------   -----  \n",
      " 0   domanialite             159388 non-null  int64  \n",
      " 1   arrondissement          159388 non-null  int64  \n",
      " 2   libelle_francais        159388 non-null  int64  \n",
      " 3   genre                   159388 non-null  int64  \n",
      " 4   espece                  159388 non-null  int64  \n",
      " 5   circonference_cm        159388 non-null  float64\n",
      " 6   hauteur_m               159388 non-null  float64\n",
      " 7   stade_de_developpement  159388 non-null  int64  \n",
      "dtypes: float64(2), int64(6)\n",
      "memory usage: 9.7 MB\n"
     ]
    }
   ],
   "source": [
    "data.info()"
   ]
  },
  {
   "cell_type": "markdown",
   "id": "59cd98ab-49e7-4230-9c40-3e7759f32f1d",
   "metadata": {},
   "source": [
    "# Arbre de decision sous performant\n",
    "\n",
    "Chargeons à nouveau le dataset mais cette fois a partir de la version déjà numérisée. \n",
    "Nous allons construire un modele de prediction sur la variable cible stade_de_developpement."
   ]
  },
  {
   "cell_type": "code",
   "execution_count": 34,
   "id": "89daa789-772b-41c7-b422-6e40abf4d77e",
   "metadata": {},
   "outputs": [],
   "source": [
    "filename = 'https://raw.githubusercontent.com/OpenClassrooms-Student-Center/8063076-Initiez-vous-au-Machine-Learning/master/data/paris-arbres-numerical-2023-09-10.csv'\n",
    "data = pd.read_csv(filename)\n"
   ]
  },
  {
   "cell_type": "code",
   "execution_count": 35,
   "id": "23a831e2-0dae-49bf-a28e-5f74d2a476e8",
   "metadata": {},
   "outputs": [],
   "source": [
    "X = data[['domanialite', 'arrondissement', 'libelle_francais', 'genre', 'espece', 'circonference_cm', 'hauteur_m']]\n",
    "y = data.stade_de_developpement.values"
   ]
  },
  {
   "cell_type": "markdown",
   "id": "946f1be8-9d6a-4a93-aa06-dcf3d4acf576",
   "metadata": {},
   "source": [
    "scindons le dataset en train et tes"
   ]
  },
  {
   "cell_type": "code",
   "execution_count": 36,
   "id": "776b0301-0bc1-4a3d-a4fd-b7035cd4714f",
   "metadata": {},
   "outputs": [],
   "source": [
    "from sklearn.model_selection import train_test_split\n",
    "X_train, X_test, y_train, y_test = train_test_split( X, y, train_size=0.8, random_state=808)"
   ]
  },
  {
   "cell_type": "markdown",
   "id": "aaa71e74-8080-4fd9-8789-7feb9b42e4ac",
   "metadata": {},
   "source": [
    "\n"
   ]
  },
  {
   "cell_type": "markdown",
   "id": "f4d54131-19d0-48ea-a3cd-0a76e9faa2d3",
   "metadata": {},
   "source": [
    "Nous utilisons le modèle DecisionTreeClassifier avec une profondeur contrainte a 3\n",
    "\n",
    "le modele est donc fortement contraint ce qui va nous permettre d'illustrer sa sous-performance: le modèle est biaisé.\n"
   ]
  },
  {
   "cell_type": "code",
   "execution_count": 37,
   "id": "9fa929ca-e101-4005-a7ea-6ba6a3d3bfc4",
   "metadata": {},
   "outputs": [],
   "source": [
    "from sklearn.tree import DecisionTreeClassifier "
   ]
  },
  {
   "cell_type": "code",
   "execution_count": 38,
   "id": "08e61340-37f0-44e9-9900-0ecbb6c07715",
   "metadata": {},
   "outputs": [
    {
     "data": {
      "text/html": [
       "<style>#sk-container-id-4 {color: black;background-color: white;}#sk-container-id-4 pre{padding: 0;}#sk-container-id-4 div.sk-toggleable {background-color: white;}#sk-container-id-4 label.sk-toggleable__label {cursor: pointer;display: block;width: 100%;margin-bottom: 0;padding: 0.3em;box-sizing: border-box;text-align: center;}#sk-container-id-4 label.sk-toggleable__label-arrow:before {content: \"▸\";float: left;margin-right: 0.25em;color: #696969;}#sk-container-id-4 label.sk-toggleable__label-arrow:hover:before {color: black;}#sk-container-id-4 div.sk-estimator:hover label.sk-toggleable__label-arrow:before {color: black;}#sk-container-id-4 div.sk-toggleable__content {max-height: 0;max-width: 0;overflow: hidden;text-align: left;background-color: #f0f8ff;}#sk-container-id-4 div.sk-toggleable__content pre {margin: 0.2em;color: black;border-radius: 0.25em;background-color: #f0f8ff;}#sk-container-id-4 input.sk-toggleable__control:checked~div.sk-toggleable__content {max-height: 200px;max-width: 100%;overflow: auto;}#sk-container-id-4 input.sk-toggleable__control:checked~label.sk-toggleable__label-arrow:before {content: \"▾\";}#sk-container-id-4 div.sk-estimator input.sk-toggleable__control:checked~label.sk-toggleable__label {background-color: #d4ebff;}#sk-container-id-4 div.sk-label input.sk-toggleable__control:checked~label.sk-toggleable__label {background-color: #d4ebff;}#sk-container-id-4 input.sk-hidden--visually {border: 0;clip: rect(1px 1px 1px 1px);clip: rect(1px, 1px, 1px, 1px);height: 1px;margin: -1px;overflow: hidden;padding: 0;position: absolute;width: 1px;}#sk-container-id-4 div.sk-estimator {font-family: monospace;background-color: #f0f8ff;border: 1px dotted black;border-radius: 0.25em;box-sizing: border-box;margin-bottom: 0.5em;}#sk-container-id-4 div.sk-estimator:hover {background-color: #d4ebff;}#sk-container-id-4 div.sk-parallel-item::after {content: \"\";width: 100%;border-bottom: 1px solid gray;flex-grow: 1;}#sk-container-id-4 div.sk-label:hover label.sk-toggleable__label {background-color: #d4ebff;}#sk-container-id-4 div.sk-serial::before {content: \"\";position: absolute;border-left: 1px solid gray;box-sizing: border-box;top: 0;bottom: 0;left: 50%;z-index: 0;}#sk-container-id-4 div.sk-serial {display: flex;flex-direction: column;align-items: center;background-color: white;padding-right: 0.2em;padding-left: 0.2em;position: relative;}#sk-container-id-4 div.sk-item {position: relative;z-index: 1;}#sk-container-id-4 div.sk-parallel {display: flex;align-items: stretch;justify-content: center;background-color: white;position: relative;}#sk-container-id-4 div.sk-item::before, #sk-container-id-4 div.sk-parallel-item::before {content: \"\";position: absolute;border-left: 1px solid gray;box-sizing: border-box;top: 0;bottom: 0;left: 50%;z-index: -1;}#sk-container-id-4 div.sk-parallel-item {display: flex;flex-direction: column;z-index: 1;position: relative;background-color: white;}#sk-container-id-4 div.sk-parallel-item:first-child::after {align-self: flex-end;width: 50%;}#sk-container-id-4 div.sk-parallel-item:last-child::after {align-self: flex-start;width: 50%;}#sk-container-id-4 div.sk-parallel-item:only-child::after {width: 0;}#sk-container-id-4 div.sk-dashed-wrapped {border: 1px dashed gray;margin: 0 0.4em 0.5em 0.4em;box-sizing: border-box;padding-bottom: 0.4em;background-color: white;}#sk-container-id-4 div.sk-label label {font-family: monospace;font-weight: bold;display: inline-block;line-height: 1.2em;}#sk-container-id-4 div.sk-label-container {text-align: center;}#sk-container-id-4 div.sk-container {/* jupyter's `normalize.less` sets `[hidden] { display: none; }` but bootstrap.min.css set `[hidden] { display: none !important; }` so we also need the `!important` here to be able to override the default hidden behavior on the sphinx rendered scikit-learn.org. See: https://github.com/scikit-learn/scikit-learn/issues/21755 */display: inline-block !important;position: relative;}#sk-container-id-4 div.sk-text-repr-fallback {display: none;}</style><div id=\"sk-container-id-4\" class=\"sk-top-container\"><div class=\"sk-text-repr-fallback\"><pre>DecisionTreeClassifier(max_depth=3, random_state=808)</pre><b>In a Jupyter environment, please rerun this cell to show the HTML representation or trust the notebook. <br />On GitHub, the HTML representation is unable to render, please try loading this page with nbviewer.org.</b></div><div class=\"sk-container\" hidden><div class=\"sk-item\"><div class=\"sk-estimator sk-toggleable\"><input class=\"sk-toggleable__control sk-hidden--visually\" id=\"sk-estimator-id-4\" type=\"checkbox\" checked><label for=\"sk-estimator-id-4\" class=\"sk-toggleable__label sk-toggleable__label-arrow\">DecisionTreeClassifier</label><div class=\"sk-toggleable__content\"><pre>DecisionTreeClassifier(max_depth=3, random_state=808)</pre></div></div></div></div></div>"
      ],
      "text/plain": [
       "DecisionTreeClassifier(max_depth=3, random_state=808)"
      ]
     },
     "execution_count": 38,
     "metadata": {},
     "output_type": "execute_result"
    }
   ],
   "source": [
    "clf = DecisionTreeClassifier(\n",
    "\tmax_depth = 3,\n",
    "    random_state = 808\n",
    ")\n",
    "clf.fit(X_train, y_train)\n"
   ]
  },
  {
   "cell_type": "code",
   "execution_count": 39,
   "id": "951b35e1-44b9-4a32-bcbd-0586ba44cd71",
   "metadata": {},
   "outputs": [
    {
     "name": "stdout",
     "output_type": "stream",
     "text": [
      "train 0.8877114343964885\n",
      "test 0.8882428014767341\n"
     ]
    }
   ],
   "source": [
    "from sklearn.metrics import roc_auc_score\n",
    "train_auc = roc_auc_score(y_train, clf.predict_proba(X_train), multi_class='ovr')\n",
    "test_auc = roc_auc_score(y_test, clf.predict_proba(X_test), multi_class='ovr')\n",
    "print(\"train\",train_auc)\n",
    "print(\"test\", test_auc)\n",
    "\n"
   ]
  },
  {
   "cell_type": "code",
   "execution_count": 40,
   "id": "285dc48e-8d5a-467e-bea4-466490a68a70",
   "metadata": {},
   "outputs": [
    {
     "name": "stdout",
     "output_type": "stream",
     "text": [
      "[[ 5570  1402   300     2]\n",
      " [ 1060  3847  2750     8]\n",
      " [  211  1481 13328   466]\n",
      " [    4     7   565   877]]\n"
     ]
    }
   ],
   "source": [
    "from sklearn.metrics import confusion_matrix\n",
    "y_train_hat = clf.predict(X_train)\n",
    "y_test_hat = clf.predict(X_test)\n",
    "print(confusion_matrix(y_test, y_test_hat))\n"
   ]
  },
  {
   "cell_type": "code",
   "execution_count": 41,
   "id": "6ec1f094-9b87-40f1-839d-32ddd24c0dcf",
   "metadata": {},
   "outputs": [
    {
     "name": "stdout",
     "output_type": "stream",
     "text": [
      "              precision    recall  f1-score   support\n",
      "\n",
      "           1       0.81      0.77      0.79      7274\n",
      "           2       0.57      0.50      0.53      7665\n",
      "           3       0.79      0.86      0.82     15486\n",
      "           4       0.65      0.60      0.63      1453\n",
      "\n",
      "    accuracy                           0.74     31878\n",
      "   macro avg       0.70      0.68      0.69     31878\n",
      "weighted avg       0.73      0.74      0.74     31878\n",
      "\n"
     ]
    }
   ],
   "source": [
    "from sklearn.metrics import classification_report\n",
    "print(classification_report(y_test, y_test_hat))"
   ]
  },
  {
   "cell_type": "markdown",
   "id": "06c39550-aee2-4415-9fd5-ef5c7674de6c",
   "metadata": {},
   "source": [
    "Notez cependant que le score(test) et le score(train) sont presque égaux:"
   ]
  },
  {
   "cell_type": "code",
   "execution_count": 42,
   "id": "f216f23b-2035-4f21-9c9d-62b54b72ca18",
   "metadata": {},
   "outputs": [
    {
     "name": "stdout",
     "output_type": "stream",
     "text": [
      "score train: 0.7409850207826837\n",
      "score test: 0.741012610577828\n"
     ]
    }
   ],
   "source": [
    "\n",
    "print(\"score train:\",clf.score(X_train, y_train))\n",
    "\n",
    "print(\"score test:\",clf.score(X_test, y_test))\n",
    "\n",
    "\n"
   ]
  },
  {
   "cell_type": "markdown",
   "id": "a421e010-5aca-481e-a478-1a07966035e7",
   "metadata": {},
   "source": [
    "# Overfit\n",
    "\n",
    "Montrons maintenant le cas d'un modele qui sur apprend le dataset d'entraînement. Pour cela nous enlevons la contrainte sur la profondeur maximum de l'arbre de décision. \n"
   ]
  },
  {
   "cell_type": "code",
   "execution_count": 43,
   "id": "567eb36c-e004-4afe-9911-e0f45bcec5ef",
   "metadata": {},
   "outputs": [
    {
     "data": {
      "text/html": [
       "<style>#sk-container-id-5 {color: black;background-color: white;}#sk-container-id-5 pre{padding: 0;}#sk-container-id-5 div.sk-toggleable {background-color: white;}#sk-container-id-5 label.sk-toggleable__label {cursor: pointer;display: block;width: 100%;margin-bottom: 0;padding: 0.3em;box-sizing: border-box;text-align: center;}#sk-container-id-5 label.sk-toggleable__label-arrow:before {content: \"▸\";float: left;margin-right: 0.25em;color: #696969;}#sk-container-id-5 label.sk-toggleable__label-arrow:hover:before {color: black;}#sk-container-id-5 div.sk-estimator:hover label.sk-toggleable__label-arrow:before {color: black;}#sk-container-id-5 div.sk-toggleable__content {max-height: 0;max-width: 0;overflow: hidden;text-align: left;background-color: #f0f8ff;}#sk-container-id-5 div.sk-toggleable__content pre {margin: 0.2em;color: black;border-radius: 0.25em;background-color: #f0f8ff;}#sk-container-id-5 input.sk-toggleable__control:checked~div.sk-toggleable__content {max-height: 200px;max-width: 100%;overflow: auto;}#sk-container-id-5 input.sk-toggleable__control:checked~label.sk-toggleable__label-arrow:before {content: \"▾\";}#sk-container-id-5 div.sk-estimator input.sk-toggleable__control:checked~label.sk-toggleable__label {background-color: #d4ebff;}#sk-container-id-5 div.sk-label input.sk-toggleable__control:checked~label.sk-toggleable__label {background-color: #d4ebff;}#sk-container-id-5 input.sk-hidden--visually {border: 0;clip: rect(1px 1px 1px 1px);clip: rect(1px, 1px, 1px, 1px);height: 1px;margin: -1px;overflow: hidden;padding: 0;position: absolute;width: 1px;}#sk-container-id-5 div.sk-estimator {font-family: monospace;background-color: #f0f8ff;border: 1px dotted black;border-radius: 0.25em;box-sizing: border-box;margin-bottom: 0.5em;}#sk-container-id-5 div.sk-estimator:hover {background-color: #d4ebff;}#sk-container-id-5 div.sk-parallel-item::after {content: \"\";width: 100%;border-bottom: 1px solid gray;flex-grow: 1;}#sk-container-id-5 div.sk-label:hover label.sk-toggleable__label {background-color: #d4ebff;}#sk-container-id-5 div.sk-serial::before {content: \"\";position: absolute;border-left: 1px solid gray;box-sizing: border-box;top: 0;bottom: 0;left: 50%;z-index: 0;}#sk-container-id-5 div.sk-serial {display: flex;flex-direction: column;align-items: center;background-color: white;padding-right: 0.2em;padding-left: 0.2em;position: relative;}#sk-container-id-5 div.sk-item {position: relative;z-index: 1;}#sk-container-id-5 div.sk-parallel {display: flex;align-items: stretch;justify-content: center;background-color: white;position: relative;}#sk-container-id-5 div.sk-item::before, #sk-container-id-5 div.sk-parallel-item::before {content: \"\";position: absolute;border-left: 1px solid gray;box-sizing: border-box;top: 0;bottom: 0;left: 50%;z-index: -1;}#sk-container-id-5 div.sk-parallel-item {display: flex;flex-direction: column;z-index: 1;position: relative;background-color: white;}#sk-container-id-5 div.sk-parallel-item:first-child::after {align-self: flex-end;width: 50%;}#sk-container-id-5 div.sk-parallel-item:last-child::after {align-self: flex-start;width: 50%;}#sk-container-id-5 div.sk-parallel-item:only-child::after {width: 0;}#sk-container-id-5 div.sk-dashed-wrapped {border: 1px dashed gray;margin: 0 0.4em 0.5em 0.4em;box-sizing: border-box;padding-bottom: 0.4em;background-color: white;}#sk-container-id-5 div.sk-label label {font-family: monospace;font-weight: bold;display: inline-block;line-height: 1.2em;}#sk-container-id-5 div.sk-label-container {text-align: center;}#sk-container-id-5 div.sk-container {/* jupyter's `normalize.less` sets `[hidden] { display: none; }` but bootstrap.min.css set `[hidden] { display: none !important; }` so we also need the `!important` here to be able to override the default hidden behavior on the sphinx rendered scikit-learn.org. See: https://github.com/scikit-learn/scikit-learn/issues/21755 */display: inline-block !important;position: relative;}#sk-container-id-5 div.sk-text-repr-fallback {display: none;}</style><div id=\"sk-container-id-5\" class=\"sk-top-container\"><div class=\"sk-text-repr-fallback\"><pre>DecisionTreeClassifier(random_state=808)</pre><b>In a Jupyter environment, please rerun this cell to show the HTML representation or trust the notebook. <br />On GitHub, the HTML representation is unable to render, please try loading this page with nbviewer.org.</b></div><div class=\"sk-container\" hidden><div class=\"sk-item\"><div class=\"sk-estimator sk-toggleable\"><input class=\"sk-toggleable__control sk-hidden--visually\" id=\"sk-estimator-id-5\" type=\"checkbox\" checked><label for=\"sk-estimator-id-5\" class=\"sk-toggleable__label sk-toggleable__label-arrow\">DecisionTreeClassifier</label><div class=\"sk-toggleable__content\"><pre>DecisionTreeClassifier(random_state=808)</pre></div></div></div></div></div>"
      ],
      "text/plain": [
       "DecisionTreeClassifier(random_state=808)"
      ]
     },
     "execution_count": 43,
     "metadata": {},
     "output_type": "execute_result"
    }
   ],
   "source": [
    "clf = DecisionTreeClassifier(\n",
    "    max_depth = None,\n",
    "    random_state = 808\n",
    ")\n",
    "clf.fit(X_train, y_train)\n",
    "\n"
   ]
  },
  {
   "cell_type": "code",
   "execution_count": 44,
   "id": "156e06a7-31be-48e3-8b7c-5153c8f4992d",
   "metadata": {},
   "outputs": [
    {
     "name": "stdout",
     "output_type": "stream",
     "text": [
      "score train: 0.9354560426633205\n",
      "score test: 0.8060104147060668\n"
     ]
    }
   ],
   "source": [
    "print(\"score train:\",clf.score(X_train, y_train))\n",
    "\n",
    "print(\"score test:\",clf.score(X_test, y_test))\n"
   ]
  },
  {
   "cell_type": "markdown",
   "id": "6a8f31cc-f28d-4949-8778-06ffb6029a7f",
   "metadata": {},
   "source": [
    "On constate bien un grand écart entre le score sur la partie train et le score sur la partie test.\n",
    "\n",
    "A quelle moment, pour quelle valeur de _max_depth_ a t on un maximum pour le score(test) ?\n"
   ]
  },
  {
   "cell_type": "code",
   "execution_count": 57,
   "id": "18f357da-f012-4c5b-8ecc-f50894a4945d",
   "metadata": {
    "scrolled": true
   },
   "outputs": [
    {
     "data": {
      "text/html": [
       "<div>\n",
       "<style scoped>\n",
       "    .dataframe tbody tr th:only-of-type {\n",
       "        vertical-align: middle;\n",
       "    }\n",
       "\n",
       "    .dataframe tbody tr th {\n",
       "        vertical-align: top;\n",
       "    }\n",
       "\n",
       "    .dataframe thead th {\n",
       "        text-align: right;\n",
       "    }\n",
       "</style>\n",
       "<table border=\"1\" class=\"dataframe\">\n",
       "  <thead>\n",
       "    <tr style=\"text-align: right;\">\n",
       "      <th></th>\n",
       "      <th>max_depth</th>\n",
       "      <th>train</th>\n",
       "      <th>test</th>\n",
       "    </tr>\n",
       "  </thead>\n",
       "  <tbody>\n",
       "    <tr>\n",
       "      <th>0</th>\n",
       "      <td>2</td>\n",
       "      <td>0.847089</td>\n",
       "      <td>0.848144</td>\n",
       "    </tr>\n",
       "    <tr>\n",
       "      <th>1</th>\n",
       "      <td>3</td>\n",
       "      <td>0.887711</td>\n",
       "      <td>0.888243</td>\n",
       "    </tr>\n",
       "    <tr>\n",
       "      <th>2</th>\n",
       "      <td>4</td>\n",
       "      <td>0.902745</td>\n",
       "      <td>0.902875</td>\n",
       "    </tr>\n",
       "    <tr>\n",
       "      <th>3</th>\n",
       "      <td>5</td>\n",
       "      <td>0.914770</td>\n",
       "      <td>0.914735</td>\n",
       "    </tr>\n",
       "    <tr>\n",
       "      <th>4</th>\n",
       "      <td>6</td>\n",
       "      <td>0.922584</td>\n",
       "      <td>0.922040</td>\n",
       "    </tr>\n",
       "    <tr>\n",
       "      <th>5</th>\n",
       "      <td>7</td>\n",
       "      <td>0.929249</td>\n",
       "      <td>0.927862</td>\n",
       "    </tr>\n",
       "    <tr>\n",
       "      <th>6</th>\n",
       "      <td>8</td>\n",
       "      <td>0.935176</td>\n",
       "      <td>0.932428</td>\n",
       "    </tr>\n",
       "    <tr>\n",
       "      <th>7</th>\n",
       "      <td>9</td>\n",
       "      <td>0.940739</td>\n",
       "      <td>0.934953</td>\n",
       "    </tr>\n",
       "    <tr>\n",
       "      <th>8</th>\n",
       "      <td>10</td>\n",
       "      <td>0.946116</td>\n",
       "      <td>0.936590</td>\n",
       "    </tr>\n",
       "    <tr>\n",
       "      <th>9</th>\n",
       "      <td>11</td>\n",
       "      <td>0.952259</td>\n",
       "      <td>0.937008</td>\n",
       "    </tr>\n",
       "    <tr>\n",
       "      <th>10</th>\n",
       "      <td>12</td>\n",
       "      <td>0.958215</td>\n",
       "      <td>0.936912</td>\n",
       "    </tr>\n",
       "    <tr>\n",
       "      <th>11</th>\n",
       "      <td>13</td>\n",
       "      <td>0.963904</td>\n",
       "      <td>0.932368</td>\n",
       "    </tr>\n",
       "    <tr>\n",
       "      <th>12</th>\n",
       "      <td>14</td>\n",
       "      <td>0.969425</td>\n",
       "      <td>0.927180</td>\n",
       "    </tr>\n",
       "    <tr>\n",
       "      <th>13</th>\n",
       "      <td>15</td>\n",
       "      <td>0.974508</td>\n",
       "      <td>0.920281</td>\n",
       "    </tr>\n",
       "    <tr>\n",
       "      <th>14</th>\n",
       "      <td>16</td>\n",
       "      <td>0.979162</td>\n",
       "      <td>0.913153</td>\n",
       "    </tr>\n",
       "    <tr>\n",
       "      <th>15</th>\n",
       "      <td>17</td>\n",
       "      <td>0.983073</td>\n",
       "      <td>0.905926</td>\n",
       "    </tr>\n",
       "    <tr>\n",
       "      <th>16</th>\n",
       "      <td>18</td>\n",
       "      <td>0.986342</td>\n",
       "      <td>0.898245</td>\n",
       "    </tr>\n",
       "    <tr>\n",
       "      <th>17</th>\n",
       "      <td>19</td>\n",
       "      <td>0.988961</td>\n",
       "      <td>0.894051</td>\n",
       "    </tr>\n",
       "    <tr>\n",
       "      <th>18</th>\n",
       "      <td>20</td>\n",
       "      <td>0.991000</td>\n",
       "      <td>0.889424</td>\n",
       "    </tr>\n",
       "    <tr>\n",
       "      <th>19</th>\n",
       "      <td>21</td>\n",
       "      <td>0.992476</td>\n",
       "      <td>0.885734</td>\n",
       "    </tr>\n",
       "    <tr>\n",
       "      <th>20</th>\n",
       "      <td>22</td>\n",
       "      <td>0.993502</td>\n",
       "      <td>0.881640</td>\n",
       "    </tr>\n",
       "    <tr>\n",
       "      <th>21</th>\n",
       "      <td>23</td>\n",
       "      <td>0.994247</td>\n",
       "      <td>0.880344</td>\n",
       "    </tr>\n",
       "    <tr>\n",
       "      <th>22</th>\n",
       "      <td>24</td>\n",
       "      <td>0.994749</td>\n",
       "      <td>0.878103</td>\n",
       "    </tr>\n",
       "    <tr>\n",
       "      <th>23</th>\n",
       "      <td>25</td>\n",
       "      <td>0.995023</td>\n",
       "      <td>0.876808</td>\n",
       "    </tr>\n",
       "    <tr>\n",
       "      <th>24</th>\n",
       "      <td>26</td>\n",
       "      <td>0.995216</td>\n",
       "      <td>0.876866</td>\n",
       "    </tr>\n",
       "    <tr>\n",
       "      <th>25</th>\n",
       "      <td>27</td>\n",
       "      <td>0.995317</td>\n",
       "      <td>0.876809</td>\n",
       "    </tr>\n",
       "    <tr>\n",
       "      <th>26</th>\n",
       "      <td>28</td>\n",
       "      <td>0.995382</td>\n",
       "      <td>0.875359</td>\n",
       "    </tr>\n",
       "    <tr>\n",
       "      <th>27</th>\n",
       "      <td>29</td>\n",
       "      <td>0.995412</td>\n",
       "      <td>0.876257</td>\n",
       "    </tr>\n",
       "  </tbody>\n",
       "</table>\n",
       "</div>"
      ],
      "text/plain": [
       "    max_depth     train      test\n",
       "0           2  0.847089  0.848144\n",
       "1           3  0.887711  0.888243\n",
       "2           4  0.902745  0.902875\n",
       "3           5  0.914770  0.914735\n",
       "4           6  0.922584  0.922040\n",
       "5           7  0.929249  0.927862\n",
       "6           8  0.935176  0.932428\n",
       "7           9  0.940739  0.934953\n",
       "8          10  0.946116  0.936590\n",
       "9          11  0.952259  0.937008\n",
       "10         12  0.958215  0.936912\n",
       "11         13  0.963904  0.932368\n",
       "12         14  0.969425  0.927180\n",
       "13         15  0.974508  0.920281\n",
       "14         16  0.979162  0.913153\n",
       "15         17  0.983073  0.905926\n",
       "16         18  0.986342  0.898245\n",
       "17         19  0.988961  0.894051\n",
       "18         20  0.991000  0.889424\n",
       "19         21  0.992476  0.885734\n",
       "20         22  0.993502  0.881640\n",
       "21         23  0.994247  0.880344\n",
       "22         24  0.994749  0.878103\n",
       "23         25  0.995023  0.876808\n",
       "24         26  0.995216  0.876866\n",
       "25         27  0.995317  0.876809\n",
       "26         28  0.995382  0.875359\n",
       "27         29  0.995412  0.876257"
      ]
     },
     "execution_count": 57,
     "metadata": {},
     "output_type": "execute_result"
    }
   ],
   "source": [
    "scores = []\n",
    "for depth in np.arange(2, 30, 1):\n",
    "\tclf = DecisionTreeClassifier(\n",
    " \t\t max_depth = depth,\n",
    " \t\t random_state = 808\n",
    "\t)\n",
    "\n",
    "\tclf.fit(X_train, y_train)\n",
    "\n",
    "\ttrain_auc = roc_auc_score(y_train, clf.predict_proba(X_train), multi_class='ovr')\n",
    "\ttest_auc = roc_auc_score(y_test, clf.predict_proba(X_test), multi_class='ovr')\n",
    "\tscores.append({\n",
    " \t\t 'max_depth': depth,\n",
    " \t\t 'train': train_auc,\n",
    " \t\t 'test': test_auc,\n",
    "\t})\n",
    "\n",
    "scores = pd.DataFrame(scores)\n",
    "scores\n"
   ]
  },
  {
   "cell_type": "markdown",
   "id": "4598bd42-7c21-4b9e-9475-7fde6342d301",
   "metadata": {},
   "source": [
    "ce qui donne la figure suivante"
   ]
  },
  {
   "cell_type": "code",
   "execution_count": 58,
   "id": "089ad8ff-a140-4b41-9b40-969077ce67eb",
   "metadata": {},
   "outputs": [
    {
     "data": {
      "image/png": "[encoded data removed]",
      "text/plain": [
       "<Figure size 800x500 with 1 Axes>"
      ]
     },
     "metadata": {},
     "output_type": "display_data"
    }
   ],
   "source": [
    "fig = plt.figure(figsize=(8,5))\n",
    "ax = fig.add_subplot(1, 1, 1)\n",
    "plt.plot(scores.max_depth, scores.train, label = 'train')\n",
    "plt.plot(scores.max_depth, scores.test, label = 'test')\n",
    "plt.plot(scores.max_depth, scores.train, '*', color = 'gray')\n",
    "plt.plot(scores.max_depth, scores.test, 'o', color = 'gray')\n",
    "ax.grid(True, which = 'both')\n",
    "ax.set_title('Train and test AUC vs max_depth')\n",
    "ax.set_xlabel('Max depth')\n",
    "ax.set_ylabel('AUC')\n",
    "plt.legend()\n",
    "\n",
    "plt.tight_layout()\n",
    "plt.show()\n"
   ]
  },
  {
   "cell_type": "markdown",
   "id": "b8936f65-cf97-46af-bc01-05a4d096b766",
   "metadata": {},
   "source": [
    "On observe bien les 3 cas de comportement du modèle\n",
    "- A gauche, le modèle sous-performe. (biais)\n",
    "- A droite, il overfit\n",
    "- Au milieu on obtient la meilleure performance sur le test set.\n"
   ]
  },
  {
   "cell_type": "code",
   "execution_count": null,
   "id": "24cd79c2-397f-41ac-974e-fadc078a3ada",
   "metadata": {},
   "outputs": [],
   "source": []
  }
 ],
 "metadata": {
  "kernelspec": {
   "display_name": "Python 3 (ipykernel)",
   "language": "python",
   "name": "python3"
  },
  "language_info": {
   "codemirror_mode": {
    "name": "ipython",
    "version": 3
   },
   "file_extension": ".py",
   "mimetype": "text/x-python",
   "name": "python",
   "nbconvert_exporter": "python",
   "pygments_lexer": "ipython3",
   "version": "3.11.3"
  }
 },
 "nbformat": 4,
 "nbformat_minor": 5
}
