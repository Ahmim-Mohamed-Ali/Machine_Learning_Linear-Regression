{
 "cells": [
  {
   "cell_type": "markdown",
   "id": "6ea41722-9d8f-4e53-b08b-a03224bbb739",
   "metadata": {},
   "source": [
    "# P2C3: Classifiez avec la Régression Logistique\n",
    "\n",
    "\n",
    "[![Open In Colab](https://colab.research.google.com/assets/colab-badge.svg)](https://colab.research.google.com/github/OpenClassrooms-Student-Center/8063076-Initiez-vous-au-Machine-Learning/blob/master/notebooks/P2C3_classification_regression_logistique.ipynb)\n",
    "\n",
    "Prenons un exemple avec le modèle de sklearn LogisticRegression\n",
    "\n",
    "Considérons le dataset du cancer du sein disponible directement dans sklearn. \n",
    "\n",
    "Ce dataset a 569 échantillons, 30 prédicteurs et une variable cible binaire : la tumeur est maligne (aïe, 1) ou bénigne (ouf, 0)\n"
   ]
  },
  {
   "cell_type": "code",
   "execution_count": 32,
   "id": "e6456118-0a98-4dbe-addc-326610f2c54b",
   "metadata": {},
   "outputs": [],
   "source": [
    "from sklearn.datasets import load_breast_cancer\n",
    "X, y = load_breast_cancer(return_X_y=True)\n"
   ]
  },
  {
   "cell_type": "code",
   "execution_count": 4,
   "id": "65bd0789-c4b1-4e02-b5b6-118207111bb0",
   "metadata": {},
   "outputs": [
    {
     "data": {
      "text/plain": [
       "(569, 30)"
      ]
     },
     "execution_count": 4,
     "metadata": {},
     "output_type": "execute_result"
    }
   ],
   "source": [
    "X.shape"
   ]
  },
  {
   "cell_type": "code",
   "execution_count": 5,
   "id": "5bea7731-5483-4260-9614-6111ca1d1ad0",
   "metadata": {},
   "outputs": [
    {
     "data": {
      "text/plain": [
       "array([0, 0, 0, 0, 0, 0, 0, 0, 0, 0, 0, 0, 0, 0, 0, 0, 0, 0, 0, 1, 1, 1,\n",
       "       0, 0, 0, 0, 0, 0, 0, 0, 0, 0, 0, 0, 0, 0, 0, 1, 0, 0, 0, 0, 0, 0,\n",
       "       0, 0, 1, 0, 1, 1, 1, 1, 1, 0, 0, 1, 0, 0, 1, 1, 1, 1, 0, 1, 0, 0,\n",
       "       1, 1, 1, 1, 0, 1, 0, 0, 1, 0, 1, 0, 0, 1, 1, 1, 0, 0, 1, 0, 0, 0,\n",
       "       1, 1, 1, 0, 1, 1, 0, 0, 1, 1, 1, 0, 0, 1, 1, 1, 1, 0, 1, 1, 0, 1,\n",
       "       1, 1, 1, 1, 1, 1, 1, 0, 0, 0, 1, 0, 0, 1, 1, 1, 0, 0, 1, 0, 1, 0,\n",
       "       0, 1, 0, 0, 1, 1, 0, 1, 1, 0, 1, 1, 1, 1, 0, 1, 1, 1, 1, 1, 1, 1,\n",
       "       1, 1, 0, 1, 1, 1, 1, 0, 0, 1, 0, 1, 1, 0, 0, 1, 1, 0, 0, 1, 1, 1,\n",
       "       1, 0, 1, 1, 0, 0, 0, 1, 0, 1, 0, 1, 1, 1, 0, 1, 1, 0, 0, 1, 0, 0,\n",
       "       0, 0, 1, 0, 0, 0, 1, 0, 1, 0, 1, 1, 0, 1, 0, 0, 0, 0, 1, 1, 0, 0,\n",
       "       1, 1, 1, 0, 1, 1, 1, 1, 1, 0, 0, 1, 1, 0, 1, 1, 0, 0, 1, 0, 1, 1,\n",
       "       1, 1, 0, 1, 1, 1, 1, 1, 0, 1, 0, 0, 0, 0, 0, 0, 0, 0, 0, 0, 0, 0,\n",
       "       0, 0, 1, 1, 1, 1, 1, 1, 0, 1, 0, 1, 1, 0, 1, 1, 0, 1, 0, 0, 1, 1,\n",
       "       1, 1, 1, 1, 1, 1, 1, 1, 1, 1, 1, 0, 1, 1, 0, 1, 0, 1, 1, 1, 1, 1,\n",
       "       1, 1, 1, 1, 1, 1, 1, 1, 1, 0, 1, 1, 1, 0, 1, 0, 1, 1, 1, 1, 0, 0,\n",
       "       0, 1, 1, 1, 1, 0, 1, 0, 1, 0, 1, 1, 1, 0, 1, 1, 1, 1, 1, 1, 1, 0,\n",
       "       0, 0, 1, 1, 1, 1, 1, 1, 1, 1, 1, 1, 1, 0, 0, 1, 0, 0, 0, 1, 0, 0,\n",
       "       1, 1, 1, 1, 1, 0, 1, 1, 1, 1, 1, 0, 1, 1, 1, 0, 1, 1, 0, 0, 1, 1,\n",
       "       1, 1, 1, 1, 0, 1, 1, 1, 1, 1, 1, 1, 0, 1, 1, 1, 1, 1, 0, 1, 1, 0,\n",
       "       1, 1, 1, 1, 1, 1, 1, 1, 1, 1, 1, 1, 0, 1, 0, 0, 1, 0, 1, 1, 1, 1,\n",
       "       1, 0, 1, 1, 0, 1, 0, 1, 1, 0, 1, 0, 1, 1, 1, 1, 1, 1, 1, 1, 0, 0,\n",
       "       1, 1, 1, 1, 1, 1, 0, 1, 1, 1, 1, 1, 1, 1, 1, 1, 1, 0, 1, 1, 1, 1,\n",
       "       1, 1, 1, 0, 1, 0, 1, 1, 0, 1, 1, 1, 1, 1, 0, 0, 1, 0, 1, 0, 1, 1,\n",
       "       1, 1, 1, 0, 1, 1, 0, 1, 0, 1, 0, 0, 1, 1, 1, 0, 1, 1, 1, 1, 1, 1,\n",
       "       1, 1, 1, 1, 1, 0, 1, 0, 0, 1, 1, 1, 1, 1, 1, 1, 1, 1, 1, 1, 1, 1,\n",
       "       1, 1, 1, 1, 1, 1, 1, 1, 1, 1, 1, 1, 0, 0, 0, 0, 0, 0, 1])"
      ]
     },
     "execution_count": 5,
     "metadata": {},
     "output_type": "execute_result"
    }
   ],
   "source": [
    "y"
   ]
  },
  {
   "cell_type": "code",
   "execution_count": 33,
   "id": "43ba9f2e-65dd-4ffb-a2fe-1da14b4ecce3",
   "metadata": {},
   "outputs": [],
   "source": [
    "# split train, test\n",
    "\n",
    "from sklearn.model_selection import train_test_split\n",
    "\n",
    "X_train, X_test, y_train, y_test = train_test_split(X, y, test_size=0.20, random_state=42)"
   ]
  },
  {
   "cell_type": "markdown",
   "id": "b16fee53-0e38-4172-8e07-6f0d5287f835",
   "metadata": {},
   "source": [
    "## Regression Logistique"
   ]
  },
  {
   "cell_type": "code",
   "execution_count": 34,
   "id": "f5f1149e-e4ea-4676-9b87-0c0ff1f68a06",
   "metadata": {},
   "outputs": [
    {
     "name": "stderr",
     "output_type": "stream",
     "text": [
      "/Library/Frameworks/Python.framework/Versions/3.11/lib/python3.11/site-packages/sklearn/linear_model/_logistic.py:458: ConvergenceWarning: lbfgs failed to converge (status=1):\n",
      "STOP: TOTAL NO. of ITERATIONS REACHED LIMIT.\n",
      "\n",
      "Increase the number of iterations (max_iter) or scale the data as shown in:\n",
      "    https://scikit-learn.org/stable/modules/preprocessing.html\n",
      "Please also refer to the documentation for alternative solver options:\n",
      "    https://scikit-learn.org/stable/modules/linear_model.html#logistic-regression\n",
      "  n_iter_i = _check_optimize_result(\n"
     ]
    }
   ],
   "source": [
    "from sklearn.linear_model import LogisticRegression\n",
    "\n",
    "# initialisation et entraînement en une ligne\n",
    "clf = LogisticRegression(random_state=808).fit(X_train, y_train)"
   ]
  },
  {
   "cell_type": "code",
   "execution_count": 35,
   "id": "3eaacee2-3ec2-45cd-8585-8ee32b50935a",
   "metadata": {},
   "outputs": [
    {
     "name": "stdout",
     "output_type": "stream",
     "text": [
      "Prédiction 0\n",
      "Probabilité 0.793373669887237\n"
     ]
    }
   ],
   "source": [
    "# Prediction d'un échantillon\n",
    "print(\"Prédiction\",clf.predict([X[8, :]])[0])\n",
    "\n",
    "print(\"Probabilité\",clf.predict_proba([X[8, :]])[0][0])\n",
    "\n"
   ]
  },
  {
   "cell_type": "markdown",
   "id": "b1b62013-61c3-4640-9399-664288349c78",
   "metadata": {},
   "source": [
    "On obtient 0, soit bénigne avec un probabilité de 79,3%\n",
    "\n"
   ]
  },
  {
   "cell_type": "code",
   "execution_count": 36,
   "id": "a266c599-44d4-40f0-badc-295ec63a1460",
   "metadata": {},
   "outputs": [
    {
     "name": "stdout",
     "output_type": "stream",
     "text": [
      "Prédiction 1\n",
      "Probabilité 0.8734077641123704\n"
     ]
    }
   ],
   "source": [
    "# Prediction d'un autre échantillon\n",
    "print(\"Prédiction\",clf.predict([X[13, :]])[0])\n",
    "\n",
    "print(\"Probabilité\",clf.predict_proba([X[13, :]])[0][1])\n",
    "\n"
   ]
  },
  {
   "cell_type": "markdown",
   "id": "93106f67-60e2-403d-ba3f-ae3de682a9b7",
   "metadata": {},
   "source": [
    "On obtient 1, soit maligne avec un probabilité de 87,3%\n"
   ]
  },
  {
   "cell_type": "markdown",
   "id": "695dc80a-a958-49dd-b70b-194f85c7ef88",
   "metadata": {},
   "source": [
    "Un bon moyen d'analyser les performances d'un modèle de classification est de tracer l'histogramme des probabilités des prédictions.\n",
    "\n",
    "\n"
   ]
  },
  {
   "cell_type": "code",
   "execution_count": 37,
   "id": "b8006f63-b433-4c8a-9056-618e05edd207",
   "metadata": {},
   "outputs": [
    {
     "data": {
      "text/plain": [
       "<Axes: ylabel='Count'>"
      ]
     },
     "execution_count": 37,
     "metadata": {},
     "output_type": "execute_result"
    },
    {
     "data": {
      "image/png": "[encoded data removed]",
      "text/plain": [
       "<Figure size 640x480 with 1 Axes>"
      ]
     },
     "metadata": {},
     "output_type": "display_data"
    }
   ],
   "source": [
    "y_hat_proba = clf.predict_proba(X_test)[:,1]\n",
    "import seaborn as sns\n",
    "sns.histplot(y_hat_proba)\n"
   ]
  },
  {
   "cell_type": "markdown",
   "id": "ee2e3512-474d-4e8c-9dee-c7c8d48bdcfe",
   "metadata": {},
   "source": [
    "Le modèle est assez confiant de ses prédiction, la plupart des prédictions ont une probabilité proche de 0 ou de 1"
   ]
  },
  {
   "cell_type": "markdown",
   "id": "6e7c6094-fe95-4882-ab0d-4400b1f01f30",
   "metadata": {},
   "source": [
    "## Accuracy "
   ]
  },
  {
   "cell_type": "code",
   "execution_count": 38,
   "id": "df3cb0ee-af05-4619-9b03-03fa6b83ad6d",
   "metadata": {},
   "outputs": [
    {
     "name": "stdout",
     "output_type": "stream",
     "text": [
      "accuracy 0.9649122807017544\n"
     ]
    }
   ],
   "source": [
    "# predictions \n",
    "y_pred = clf.predict(X_test)\n",
    "\n",
    "from sklearn.metrics import accuracy_score\n",
    "print(\"accuracy\",accuracy_score(y_test, y_pred))\n"
   ]
  },
  {
   "cell_type": "markdown",
   "id": "b139036e-a3e2-4193-a7da-2010472ed8ba",
   "metadata": {},
   "source": [
    "0.965 pas mal!"
   ]
  },
  {
   "cell_type": "markdown",
   "id": "055bea14-e308-4f54-8636-a638327acc3a",
   "metadata": {},
   "source": [
    "## Matrice de confusion"
   ]
  },
  {
   "cell_type": "code",
   "execution_count": 39,
   "id": "c497b0b3-0fc2-48fa-a3cb-3c0d2a3b9603",
   "metadata": {},
   "outputs": [
    {
     "data": {
      "text/plain": [
       "array([[40,  3],\n",
       "       [ 1, 70]])"
      ]
     },
     "execution_count": 39,
     "metadata": {},
     "output_type": "execute_result"
    }
   ],
   "source": [
    "from sklearn.metrics import confusion_matrix\n",
    "confusion_matrix(y_test, y_pred)"
   ]
  },
  {
   "cell_type": "markdown",
   "id": "5dbf741b-bd62-43e8-b58d-594eacdd5431",
   "metadata": {},
   "source": [
    "## Seuil de séparation des classes\n",
    "\n",
    "Comparons la matrice de confusion et les scores obtenus pour differents seuil de classification"
   ]
  },
  {
   "cell_type": "code",
   "execution_count": 19,
   "id": "df15d843-6966-4c47-adb0-6270612b1cd7",
   "metadata": {},
   "outputs": [],
   "source": [
    "# Probabilité de la classe 1\n",
    "y_hat_proba = clf.predict_proba(X_test)[:,1]"
   ]
  },
  {
   "cell_type": "code",
   "execution_count": 40,
   "id": "1ed70905-72bd-49b3-a9f3-fa6fc463583a",
   "metadata": {},
   "outputs": [],
   "source": [
    "# classes prédites pour les  seuils 0.3 et 0.7\n",
    "\n",
    "y_pred_03 = [ 0 if value < 0.3 else 1 for value in y_hat_proba ]\n",
    "y_pred_07 = [ 0 if value < 0.7 else 1 for value in y_hat_proba ]"
   ]
  },
  {
   "cell_type": "code",
   "execution_count": 42,
   "id": "e5e0d23f-7e5a-4559-899c-ca26832d097c",
   "metadata": {},
   "outputs": [
    {
     "data": {
      "text/plain": [
       "array([[38,  5],\n",
       "       [ 1, 70]])"
      ]
     },
     "execution_count": 42,
     "metadata": {},
     "output_type": "execute_result"
    }
   ],
   "source": [
    "# Matrice de confusion pour le seuil 0.3\n",
    "\n",
    "confusion_matrix(y_test, y_pred_03)"
   ]
  },
  {
   "cell_type": "code",
   "execution_count": 43,
   "id": "f348bd58-2892-4e58-ab22-7685d10edcdc",
   "metadata": {},
   "outputs": [
    {
     "data": {
      "text/plain": [
       "array([[41,  2],\n",
       "       [ 2, 69]])"
      ]
     },
     "execution_count": 43,
     "metadata": {},
     "output_type": "execute_result"
    }
   ],
   "source": [
    "# Matrice de confusion pour le seuil 0.7\n",
    "\n",
    "confusion_matrix(y_test, y_pred_07)"
   ]
  },
  {
   "cell_type": "markdown",
   "id": "3c0537b1-d8b5-4a16-882c-1289be946a3a",
   "metadata": {},
   "source": [
    "## Autres metriques de classification\n",
    "Precision, Recall et ROC_AUC\n"
   ]
  },
  {
   "cell_type": "code",
   "execution_count": 44,
   "id": "e8dece65-956c-4d5a-bcb9-6d05bab28bfa",
   "metadata": {},
   "outputs": [
    {
     "name": "stdout",
     "output_type": "stream",
     "text": [
      "Precision: 0.958904109589041\n",
      "Recall: 0.9859154929577465\n",
      "ROC-AUC 0.9967245332459875\n"
     ]
    }
   ],
   "source": [
    "from sklearn.metrics import precision_score, recall_score, roc_auc_score\n",
    "print(\"Precision:\",precision_score(y_test, y_pred))\n",
    "print(\"Recall:\",recall_score(y_test, y_pred))\n",
    "print(\"ROC-AUC\", roc_auc_score(y_test, clf.predict_proba(X_test)[:, 1]))"
   ]
  },
  {
   "cell_type": "markdown",
   "id": "ebbad5fd-191b-44be-80d4-17f77e5d14ef",
   "metadata": {},
   "source": [
    "### Courbe ROC"
   ]
  },
  {
   "cell_type": "code",
   "execution_count": 46,
   "id": "2642771f-acd4-414e-8187-f39c29bcf8ff",
   "metadata": {},
   "outputs": [
    {
     "data": {
      "text/plain": [
       "Text(0.5, 1.0, 'ROC curve')"
      ]
     },
     "execution_count": 46,
     "metadata": {},
     "output_type": "execute_result"
    },
    {
     "data": {
      "image/png": "[encoded data removed]",
      "text/plain": [
       "<Figure size 640x480 with 1 Axes>"
      ]
     },
     "metadata": {},
     "output_type": "display_data"
    }
   ],
   "source": [
    "from sklearn.metrics import roc_curve\n",
    "fpr, tpr, thresholds = roc_curve(y_test, clf.predict_proba(X_test)[:,1])\n",
    "\n",
    "import matplotlib.pyplot as plt\n",
    "plt.plot(fpr, tpr)\n",
    "plt.grid()\n",
    "plt.title(\"ROC curve\")"
   ]
  },
  {
   "cell_type": "markdown",
   "id": "2ca498fd-82f0-4d5a-899d-90778653b9c9",
   "metadata": {},
   "source": [
    "## Classification sur le dataset IRIS\n",
    "\n",
    "Le dataset [IRIS](https://scikit-learn.org/stable/auto_examples/datasets/plot_iris_dataset.html) est disponible dans scikit-learn"
   ]
  },
  {
   "cell_type": "code",
   "execution_count": 50,
   "id": "3b937b6f-2be3-4c1b-8038-11f9cfe82504",
   "metadata": {},
   "outputs": [],
   "source": [
    "from sklearn.datasets import load_iris\n",
    "X, y = load_iris(return_X_y=True)"
   ]
  },
  {
   "cell_type": "code",
   "execution_count": 58,
   "id": "0da78399-de53-41d1-9aa1-b3d3c56bbc0c",
   "metadata": {},
   "outputs": [],
   "source": [
    "\n",
    "\n",
    "X_train, X_test, y_train, y_test = train_test_split(X, y, test_size=0.20, random_state=8)"
   ]
  },
  {
   "cell_type": "code",
   "execution_count": 59,
   "id": "0e74ddc6-0eb1-4e82-a6fd-64b044cac788",
   "metadata": {},
   "outputs": [],
   "source": [
    "# entrainons le modele\n",
    "\n",
    "clf = LogisticRegression(random_state=8).fit(X_train, y_train)"
   ]
  },
  {
   "cell_type": "code",
   "execution_count": 60,
   "id": "e9ec2c68-3b37-4098-b7f4-c404b1688702",
   "metadata": {},
   "outputs": [],
   "source": [
    "# prediction sur le set de test\n",
    "\n",
    "y_pred = clf.predict(X_test)\n",
    "y_pred_proba = clf.predict_proba(X_test)"
   ]
  },
  {
   "cell_type": "code",
   "execution_count": 61,
   "id": "a96a06f7-6785-4e6e-9cab-026a471d28d2",
   "metadata": {},
   "outputs": [
    {
     "data": {
      "text/plain": [
       "array([[10,  0,  0],\n",
       "       [ 0,  8,  1],\n",
       "       [ 0,  2,  9]])"
      ]
     },
     "execution_count": 61,
     "metadata": {},
     "output_type": "execute_result"
    }
   ],
   "source": [
    "# Matrice de confusion\n",
    "confusion_matrix(y_test, y_pred)"
   ]
  },
  {
   "cell_type": "markdown",
   "id": "ed5893b3-e802-44fe-b322-90763235c6bb",
   "metadata": {},
   "source": [
    "Comme il y a  3 classes à prédire, la matrice de confusion est une matric 3x3"
   ]
  },
  {
   "cell_type": "code",
   "execution_count": 65,
   "id": "6263f550-6b77-40f8-9cbb-c3ee7f46cceb",
   "metadata": {},
   "outputs": [
    {
     "name": "stdout",
     "output_type": "stream",
     "text": [
      "ROC-AUC 0.9832071761896323\n"
     ]
    }
   ],
   "source": [
    "\n",
    "print(\"ROC-AUC\", roc_auc_score(y_test, clf.predict_proba(X_test),multi_class='ovr'))"
   ]
  },
  {
   "cell_type": "code",
   "execution_count": null,
   "id": "a0f7f578-82d9-454f-b55d-aef6ba63ccff",
   "metadata": {},
   "outputs": [],
   "source": []
  }
 ],
 "metadata": {
  "kernelspec": {
   "display_name": "Python 3 (ipykernel)",
   "language": "python",
   "name": "python3"
  },
  "language_info": {
   "codemirror_mode": {
    "name": "ipython",
    "version": 3
   },
   "file_extension": ".py",
   "mimetype": "text/x-python",
   "name": "python",
   "nbconvert_exporter": "python",
   "pygments_lexer": "ipython3",
   "version": "3.11.3"
  }
 },
 "nbformat": 4,
 "nbformat_minor": 5
}
