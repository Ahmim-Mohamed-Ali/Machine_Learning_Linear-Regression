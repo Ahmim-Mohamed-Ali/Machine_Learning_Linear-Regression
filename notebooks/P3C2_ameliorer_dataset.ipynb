{
 "cells": [
  {
   "cell_type": "markdown",
   "id": "4f1b934c-6b3f-4971-8002-29ee006ecf74",
   "metadata": {},
   "source": [
    "# P3C2 Améliorez un jeu de données\n",
    "\n",
    "[![Open In Colab](https://colab.research.google.com/assets/colab-badge.svg)](https://colab.research.google.com/github/OpenClassrooms-Student-Center/8063076-Initiez-vous-au-Machine-Learning/blob/master/notebooks/P3C2_ameliorer_dataset.ipynb)\n",
    "\n",
    "Dans ce notebook nous allons nous attaquer aux problèmes des données manquantes  et à celui des outliers (données aberrantes)\n",
    "\n",
    "Nous travaillons sur le dataset des arbres de Paris\n",
    "\n",
    "\n",
    "Vous trouverez les versions suivantes du datasets\n",
    "\n",
    "- sur le site [opendata de Paris](https://opendata.paris.fr/explore/dataset/les-arbres/information)\n",
    "- version [brute](https://github.com/OpenClassrooms-Student-Center/8063076-Initiez-vous-au-Machine-Learning/blob/master/data/paris-arbres-2023-09-07.csv) extraite le 10-09-2023, le séparateur est ';'\n",
    "- version [exploitable](https://github.com/OpenClassrooms-Student-Center/8063076-Initiez-vous-au-Machine-Learning/blob/master/data/paris-arbres-clean-2023-09-10.csv): les colonnes ont été renommées, le séparateur est ','\n",
    "\n",
    "\n",
    "Ici nous travaillons sur cette version _exploitable_\n"
   ]
  },
  {
   "cell_type": "code",
   "execution_count": 354,
   "id": "5dbf54bd-0d06-484b-8d5f-ee7a53a57621",
   "metadata": {},
   "outputs": [],
   "source": [
    "import pandas as pd\n",
    "import matplotlib.pyplot as plt"
   ]
  },
  {
   "cell_type": "code",
   "execution_count": 355,
   "id": "e2ad3f54-1dd3-4ff8-a048-02435e01ca89",
   "metadata": {},
   "outputs": [
    {
     "name": "stderr",
     "output_type": "stream",
     "text": [
      "/var/folders/31/b9pwgxyd4rz86p81hzwb44bm0000gn/T/ipykernel_25236/3948492116.py:2: DtypeWarning: Columns (0,4) have mixed types. Specify dtype option on import or set low_memory=False.\n",
      "  df = pd.read_csv(dataset_url)\n"
     ]
    }
   ],
   "source": [
    "dataset_url = \"https://raw.githubusercontent.com/OpenClassrooms-Student-Center/8063076-Initiez-vous-au-Machine-Learning/master/data/paris-arbres-clean-2023-09-10.csv\"\n",
    "df = pd.read_csv(dataset_url)"
   ]
  },
  {
   "cell_type": "markdown",
   "id": "7b320adf-ba75-4e9f-86bd-29112d224e0f",
   "metadata": {},
   "source": [
    "En résumé nous obtenons un dataset\n",
    "\n",
    "- 221201 échantillons\n",
    "- 16 colonnes\n",
    "- les variables suivantes:\n",
    "    - localisation: domanialite, arrondissement, complement_adresse, numero, lieu_adresse, geo_point_2d\n",
    "    - nature des arbres: libelle_francais, genre, espece, variete_oucultivar, remarquable\n",
    "    - les mensurations:  circonference_cm et hauteur_m, stade_de_developpement\n",
    "    - les ID: idbase, idemplacement\n",
    " "
   ]
  },
  {
   "cell_type": "code",
   "execution_count": 356,
   "id": "28133009-ab68-4de3-bb2a-adde0d98f9b1",
   "metadata": {},
   "outputs": [
    {
     "data": {
      "text/html": [
       "<div>\n",
       "<style scoped>\n",
       "    .dataframe tbody tr th:only-of-type {\n",
       "        vertical-align: middle;\n",
       "    }\n",
       "\n",
       "    .dataframe tbody tr th {\n",
       "        vertical-align: top;\n",
       "    }\n",
       "\n",
       "    .dataframe thead th {\n",
       "        text-align: right;\n",
       "    }\n",
       "</style>\n",
       "<table border=\"1\" class=\"dataframe\">\n",
       "  <thead>\n",
       "    <tr style=\"text-align: right;\">\n",
       "      <th></th>\n",
       "      <th>idbase</th>\n",
       "      <th>domanialite</th>\n",
       "      <th>arrondissement</th>\n",
       "      <th>complement_adresse</th>\n",
       "      <th>numero</th>\n",
       "      <th>lieu_adresse</th>\n",
       "      <th>idemplacement</th>\n",
       "      <th>libelle_francais</th>\n",
       "      <th>genre</th>\n",
       "      <th>espece</th>\n",
       "      <th>variete_oucultivar</th>\n",
       "      <th>circonference_cm</th>\n",
       "      <th>hauteur_m</th>\n",
       "      <th>stade_de_developpement</th>\n",
       "      <th>remarquable</th>\n",
       "      <th>geo_point_2d</th>\n",
       "    </tr>\n",
       "  </thead>\n",
       "  <tbody>\n",
       "    <tr>\n",
       "      <th>0</th>\n",
       "      <td>256032</td>\n",
       "      <td>Alignement</td>\n",
       "      <td>PARIS 14E ARRDT</td>\n",
       "      <td>NaN</td>\n",
       "      <td>NaN</td>\n",
       "      <td>RUE VERCINGETORIX</td>\n",
       "      <td>000602025</td>\n",
       "      <td>Erable</td>\n",
       "      <td>Acer</td>\n",
       "      <td>pseudoplatanus</td>\n",
       "      <td>''Atropurpureum''</td>\n",
       "      <td>70.0</td>\n",
       "      <td>6.0</td>\n",
       "      <td>Jeune (arbre)</td>\n",
       "      <td>NON</td>\n",
       "      <td>48.83154687478726, 2.3093726893065596</td>\n",
       "    </tr>\n",
       "    <tr>\n",
       "      <th>1</th>\n",
       "      <td>281618</td>\n",
       "      <td>Alignement</td>\n",
       "      <td>PARIS 8E ARRDT</td>\n",
       "      <td>NaN</td>\n",
       "      <td>NaN</td>\n",
       "      <td>AVENUE DES CHAMPS ELYSEES</td>\n",
       "      <td>000305044</td>\n",
       "      <td>Marronnier</td>\n",
       "      <td>Aesculus</td>\n",
       "      <td>hippocastanum</td>\n",
       "      <td>''Baumannii''</td>\n",
       "      <td>20.0</td>\n",
       "      <td>4.0</td>\n",
       "      <td>Jeune (arbre)</td>\n",
       "      <td>NON</td>\n",
       "      <td>48.86665704304558, 2.3162802812024443</td>\n",
       "    </tr>\n",
       "    <tr>\n",
       "      <th>2</th>\n",
       "      <td>302647</td>\n",
       "      <td>Jardin</td>\n",
       "      <td>PARIS 8E ARRDT</td>\n",
       "      <td>Secteur Kiosque</td>\n",
       "      <td>NaN</td>\n",
       "      <td>JARDINS DES CHAMPS ELYSEES - ABORDS DU KIOSQUE...</td>\n",
       "      <td>000109003</td>\n",
       "      <td>If</td>\n",
       "      <td>Taxus</td>\n",
       "      <td>baccata</td>\n",
       "      <td>NaN</td>\n",
       "      <td>50.0</td>\n",
       "      <td>5.0</td>\n",
       "      <td>Jeune (arbre)Adulte</td>\n",
       "      <td>NON</td>\n",
       "      <td>48.86594098488487, 2.3177825326579695</td>\n",
       "    </tr>\n",
       "    <tr>\n",
       "      <th>3</th>\n",
       "      <td>238226</td>\n",
       "      <td>Alignement</td>\n",
       "      <td>PARIS 12E ARRDT</td>\n",
       "      <td>37</td>\n",
       "      <td>NaN</td>\n",
       "      <td>AVENUE DE SAINT MANDE</td>\n",
       "      <td>000501020</td>\n",
       "      <td>Platane</td>\n",
       "      <td>Platanus</td>\n",
       "      <td>x hispanica</td>\n",
       "      <td>NaN</td>\n",
       "      <td>30.0</td>\n",
       "      <td>5.0</td>\n",
       "      <td>Jeune (arbre)</td>\n",
       "      <td>NON</td>\n",
       "      <td>48.84515461889761, 2.4008303350818525</td>\n",
       "    </tr>\n",
       "    <tr>\n",
       "      <th>4</th>\n",
       "      <td>110978</td>\n",
       "      <td>Jardin</td>\n",
       "      <td>PARIS 19E ARRDT</td>\n",
       "      <td>NaN</td>\n",
       "      <td>NaN</td>\n",
       "      <td>PARC DES BUTTES CHAUMONT</td>\n",
       "      <td>K69K0040</td>\n",
       "      <td>Pin</td>\n",
       "      <td>Pinus</td>\n",
       "      <td>nigra</td>\n",
       "      <td>NaN</td>\n",
       "      <td>100.0</td>\n",
       "      <td>10.0</td>\n",
       "      <td>NaN</td>\n",
       "      <td>NaN</td>\n",
       "      <td>48.87971709048107, 2.3797109748696337</td>\n",
       "    </tr>\n",
       "  </tbody>\n",
       "</table>\n",
       "</div>"
      ],
      "text/plain": [
       "   idbase domanialite   arrondissement complement_adresse numero   \n",
       "0  256032  Alignement  PARIS 14E ARRDT                NaN    NaN  \\\n",
       "1  281618  Alignement   PARIS 8E ARRDT                NaN    NaN   \n",
       "2  302647      Jardin   PARIS 8E ARRDT    Secteur Kiosque    NaN   \n",
       "3  238226  Alignement  PARIS 12E ARRDT                 37    NaN   \n",
       "4  110978      Jardin  PARIS 19E ARRDT                NaN    NaN   \n",
       "\n",
       "                                        lieu_adresse idemplacement   \n",
       "0                                  RUE VERCINGETORIX     000602025  \\\n",
       "1                          AVENUE DES CHAMPS ELYSEES     000305044   \n",
       "2  JARDINS DES CHAMPS ELYSEES - ABORDS DU KIOSQUE...     000109003   \n",
       "3                              AVENUE DE SAINT MANDE     000501020   \n",
       "4                           PARC DES BUTTES CHAUMONT      K69K0040   \n",
       "\n",
       "  libelle_francais     genre          espece variete_oucultivar   \n",
       "0           Erable      Acer  pseudoplatanus  ''Atropurpureum''  \\\n",
       "1       Marronnier  Aesculus   hippocastanum      ''Baumannii''   \n",
       "2               If     Taxus         baccata                NaN   \n",
       "3          Platane  Platanus     x hispanica                NaN   \n",
       "4              Pin     Pinus           nigra                NaN   \n",
       "\n",
       "   circonference_cm  hauteur_m stade_de_developpement remarquable   \n",
       "0              70.0        6.0          Jeune (arbre)         NON  \\\n",
       "1              20.0        4.0          Jeune (arbre)         NON   \n",
       "2              50.0        5.0    Jeune (arbre)Adulte         NON   \n",
       "3              30.0        5.0          Jeune (arbre)         NON   \n",
       "4             100.0       10.0                    NaN         NaN   \n",
       "\n",
       "                            geo_point_2d  \n",
       "0  48.83154687478726, 2.3093726893065596  \n",
       "1  48.86665704304558, 2.3162802812024443  \n",
       "2  48.86594098488487, 2.3177825326579695  \n",
       "3  48.84515461889761, 2.4008303350818525  \n",
       "4  48.87971709048107, 2.3797109748696337  "
      ]
     },
     "execution_count": 356,
     "metadata": {},
     "output_type": "execute_result"
    }
   ],
   "source": [
    "df.head()"
   ]
  },
  {
   "cell_type": "code",
   "execution_count": 357,
   "id": "3351f25c-7784-4a67-bb68-e922b3a4ef5e",
   "metadata": {},
   "outputs": [
    {
     "data": {
      "text/plain": [
       "(221201, 16)"
      ]
     },
     "execution_count": 357,
     "metadata": {},
     "output_type": "execute_result"
    }
   ],
   "source": [
    "df.shape"
   ]
  },
  {
   "cell_type": "code",
   "execution_count": 358,
   "id": "83b4aa3b-fe8f-459e-bf3e-15cf3a366e3d",
   "metadata": {},
   "outputs": [
    {
     "data": {
      "text/plain": [
       "Index(['idbase', 'domanialite', 'arrondissement', 'complement_adresse',\n",
       "       'numero', 'lieu_adresse', 'idemplacement', 'libelle_francais', 'genre',\n",
       "       'espece', 'variete_oucultivar', 'circonference_cm', 'hauteur_m',\n",
       "       'stade_de_developpement', 'remarquable', 'geo_point_2d'],\n",
       "      dtype='object')"
      ]
     },
     "execution_count": 358,
     "metadata": {},
     "output_type": "execute_result"
    }
   ],
   "source": [
    "df.columns"
   ]
  },
  {
   "cell_type": "code",
   "execution_count": 359,
   "id": "121143dd-6dee-482b-a703-3d078d4020db",
   "metadata": {},
   "outputs": [
    {
     "data": {
      "text/html": [
       "<div>\n",
       "<style scoped>\n",
       "    .dataframe tbody tr th:only-of-type {\n",
       "        vertical-align: middle;\n",
       "    }\n",
       "\n",
       "    .dataframe tbody tr th {\n",
       "        vertical-align: top;\n",
       "    }\n",
       "\n",
       "    .dataframe thead th {\n",
       "        text-align: right;\n",
       "    }\n",
       "</style>\n",
       "<table border=\"1\" class=\"dataframe\">\n",
       "  <thead>\n",
       "    <tr style=\"text-align: right;\">\n",
       "      <th></th>\n",
       "      <th>circonference_cm</th>\n",
       "      <th>hauteur_m</th>\n",
       "    </tr>\n",
       "  </thead>\n",
       "  <tbody>\n",
       "    <tr>\n",
       "      <th>count</th>\n",
       "      <td>207640.000000</td>\n",
       "      <td>207640.000000</td>\n",
       "    </tr>\n",
       "    <tr>\n",
       "      <th>mean</th>\n",
       "      <td>81.139703</td>\n",
       "      <td>8.817737</td>\n",
       "    </tr>\n",
       "    <tr>\n",
       "      <th>std</th>\n",
       "      <td>62.986148</td>\n",
       "      <td>6.128331</td>\n",
       "    </tr>\n",
       "    <tr>\n",
       "      <th>min</th>\n",
       "      <td>0.000000</td>\n",
       "      <td>0.000000</td>\n",
       "    </tr>\n",
       "    <tr>\n",
       "      <th>25%</th>\n",
       "      <td>30.000000</td>\n",
       "      <td>5.000000</td>\n",
       "    </tr>\n",
       "    <tr>\n",
       "      <th>50%</th>\n",
       "      <td>70.000000</td>\n",
       "      <td>8.000000</td>\n",
       "    </tr>\n",
       "    <tr>\n",
       "      <th>75%</th>\n",
       "      <td>115.000000</td>\n",
       "      <td>12.000000</td>\n",
       "    </tr>\n",
       "    <tr>\n",
       "      <th>max</th>\n",
       "      <td>1680.000000</td>\n",
       "      <td>710.000000</td>\n",
       "    </tr>\n",
       "  </tbody>\n",
       "</table>\n",
       "</div>"
      ],
      "text/plain": [
       "       circonference_cm      hauteur_m\n",
       "count     207640.000000  207640.000000\n",
       "mean          81.139703       8.817737\n",
       "std           62.986148       6.128331\n",
       "min            0.000000       0.000000\n",
       "25%           30.000000       5.000000\n",
       "50%           70.000000       8.000000\n",
       "75%          115.000000      12.000000\n",
       "max         1680.000000     710.000000"
      ]
     },
     "execution_count": 359,
     "metadata": {},
     "output_type": "execute_result"
    }
   ],
   "source": [
    "df.describe()"
   ]
  },
  {
   "cell_type": "code",
   "execution_count": 360,
   "id": "1e565b15-c5bd-4fbf-b308-afa804ac4b61",
   "metadata": {},
   "outputs": [
    {
     "name": "stdout",
     "output_type": "stream",
     "text": [
      "<class 'pandas.core.frame.DataFrame'>\n",
      "RangeIndex: 221201 entries, 0 to 221200\n",
      "Data columns (total 16 columns):\n",
      " #   Column                  Non-Null Count   Dtype  \n",
      "---  ------                  --------------   -----  \n",
      " 0   idbase                  221201 non-null  object \n",
      " 1   domanialite             221201 non-null  object \n",
      " 2   arrondissement          221201 non-null  object \n",
      " 3   complement_adresse      58957 non-null   object \n",
      " 4   numero                  1 non-null       object \n",
      " 5   lieu_adresse            221200 non-null  object \n",
      " 6   idemplacement           207641 non-null  object \n",
      " 7   libelle_francais        206436 non-null  object \n",
      " 8   genre                   207638 non-null  object \n",
      " 9   espece                  205163 non-null  object \n",
      " 10  variete_oucultivar      39718 non-null   object \n",
      " 11  circonference_cm        207640 non-null  float64\n",
      " 12  hauteur_m               207640 non-null  float64\n",
      " 13  stade_de_developpement  160839 non-null  object \n",
      " 14  remarquable             185410 non-null  object \n",
      " 15  geo_point_2d            207640 non-null  object \n",
      "dtypes: float64(2), object(14)\n",
      "memory usage: 27.0+ MB\n"
     ]
    }
   ],
   "source": [
    "df.info()"
   ]
  },
  {
   "cell_type": "code",
   "execution_count": 361,
   "id": "724f8e5d-ac1e-4d4f-9a60-4190f36da6d2",
   "metadata": {},
   "outputs": [
    {
     "data": {
      "text/plain": [
       "domanialite\n",
       "Alignement      107115\n",
       "Jardin           63467\n",
       "CIMETIERE        31920\n",
       "DASCO             7249\n",
       "PERIPHERIQUE      5225\n",
       "DJS               4732\n",
       "DFPE              1408\n",
       "DAC                 66\n",
       "DASES               18\n",
       "000101001            1\n",
       "Name: count, dtype: int64"
      ]
     },
     "execution_count": 361,
     "metadata": {},
     "output_type": "execute_result"
    }
   ],
   "source": [
    "df.domanialite.value_counts(dropna = False)"
   ]
  },
  {
   "cell_type": "code",
   "execution_count": 362,
   "id": "663df4a4-79c5-4773-8b8a-9e9a3523b76e",
   "metadata": {},
   "outputs": [
    {
     "data": {
      "text/plain": [
       "espece\n",
       "x hispanica      36687\n",
       "hippocastanum    19898\n",
       "NaN              16038\n",
       "japonicum        11905\n",
       "tomentosa         8992\n",
       "                 ...  \n",
       "cathayana            1\n",
       "pekinensis           1\n",
       "vilmorinii           1\n",
       "henryi               1\n",
       "macrophyllum         1\n",
       "Name: count, Length: 560, dtype: int64"
      ]
     },
     "execution_count": 362,
     "metadata": {},
     "output_type": "execute_result"
    }
   ],
   "source": [
    "df.espece.value_counts(dropna = False)"
   ]
  },
  {
   "cell_type": "code",
   "execution_count": 363,
   "id": "2bda8cdd-ea77-405a-a025-c8b8ef5e90da",
   "metadata": {},
   "outputs": [
    {
     "data": {
      "text/plain": [
       "stade_de_developpement\n",
       "Adulte                 78454\n",
       "NaN                    60362\n",
       "Jeune (arbre)Adulte    38503\n",
       "Jeune (arbre)          36476\n",
       "Mature                  7406\n",
       "Name: count, dtype: int64"
      ]
     },
     "execution_count": 363,
     "metadata": {},
     "output_type": "execute_result"
    }
   ],
   "source": [
    "df.stade_de_developpement.value_counts(dropna = False)"
   ]
  },
  {
   "cell_type": "markdown",
   "id": "65a27f89-6914-4d77-85c1-56794a43799c",
   "metadata": {},
   "source": [
    "# Les platanes\n",
    "\n",
    "Nous travaillons sur un subset composé uniquement des Platanes, soit 42588 arbres"
   ]
  },
  {
   "cell_type": "code",
   "execution_count": 364,
   "id": "0b638628-ec11-4576-a643-6c5b3f18b6c7",
   "metadata": {},
   "outputs": [
    {
     "data": {
      "text/plain": [
       "(42588, 16)"
      ]
     },
     "execution_count": 364,
     "metadata": {},
     "output_type": "execute_result"
    }
   ],
   "source": [
    "df = df[df.libelle_francais == 'Platane'].copy()\n",
    "\n",
    "df.shape"
   ]
  },
  {
   "cell_type": "markdown",
   "id": "1f2227d6-cded-430c-b269-7ee30ea1ab04",
   "metadata": {},
   "source": [
    "la variable stade_de_developpement a 3350 valeurs manquantes (NaN)\n"
   ]
  },
  {
   "cell_type": "code",
   "execution_count": 365,
   "id": "b8b446ce-5990-432b-ab8e-94af4787ba05",
   "metadata": {},
   "outputs": [
    {
     "data": {
      "text/plain": [
       "stade_de_developpement\n",
       "Adulte                 21620\n",
       "Jeune (arbre)Adulte     8356\n",
       "Jeune (arbre)           5916\n",
       "NaN                     3350\n",
       "Mature                  3346\n",
       "Name: count, dtype: int64"
      ]
     },
     "execution_count": 365,
     "metadata": {},
     "output_type": "execute_result"
    }
   ],
   "source": [
    "df.stade_de_developpement.value_counts(dropna = False)"
   ]
  },
  {
   "cell_type": "markdown",
   "id": "173faac9-2790-41a8-851e-de0378fa22e4",
   "metadata": {},
   "source": [
    "On suppose que la valeur _Jeune (arbre)Adulte_ est une valeur intermédiaire entre les catégories _Jeune (arbre)_ et _Adulte_. \n",
    "\n",
    "On a donc la graduation: Jeune (arbre), Jeune (arbre)Adulte, Adulte puis Mature."
   ]
  },
  {
   "cell_type": "markdown",
   "id": "0a81cb50-8ccb-4e51-8605-0ffd0648f80d",
   "metadata": {},
   "source": [
    "## Visualisation\n",
    "\n",
    "Regardons la distribution de la hauteur et circonference en fonction des stades de developpement"
   ]
  },
  {
   "cell_type": "markdown",
   "id": "8f186cd0-0f00-4aaa-b4fb-79557775ff5c",
   "metadata": {},
   "source": [
    "Pour une meilleure figure:\n",
    "\n",
    "- Ordonnons tout d'abord le dataset en fonction de l'ordre de la variable stade_de_développement\n",
    "- Enlevons les valeurs manquantes de stade_de_developpement\n",
    "- limitons les mensurations\n"
   ]
  },
  {
   "cell_type": "code",
   "execution_count": 366,
   "id": "d9e4d3cb-79fd-41a0-9063-4dda824eaea7",
   "metadata": {},
   "outputs": [],
   "source": [
    "\n",
    "cats = ['Jeune (arbre)', 'Jeune (arbre)Adulte', 'Adulte', 'Mature']\n",
    "\n",
    "for n, cat in zip(range(1, 5), cats):\n",
    "    df.loc[df.stade_de_developpement == cat, 'stade_num'] = n\n",
    "df.sort_values(by = 'stade_num', inplace = True)\n",
    "df.reset_index(inplace = True, drop = True)"
   ]
  },
  {
   "cell_type": "code",
   "execution_count": 367,
   "id": "6a6792b3-2685-411f-a0f7-18b1be7b7f4a",
   "metadata": {},
   "outputs": [
    {
     "data": {
      "text/plain": [
       "(39119, 17)"
      ]
     },
     "execution_count": 367,
     "metadata": {},
     "output_type": "execute_result"
    }
   ],
   "source": [
    "cond = ~df.stade_de_developpement.isna() & (df.circonference_cm < 400) & (df.hauteur_m < 40)\n",
    "\n",
    "df[cond].shape"
   ]
  },
  {
   "cell_type": "markdown",
   "id": "7ed83d92-e361-43be-8c56-ebb49d87280a",
   "metadata": {},
   "source": [
    "Voici les boxplot des hauteur_m et circonference_cm "
   ]
  },
  {
   "cell_type": "code",
   "execution_count": 368,
   "id": "1c2d9b55-74b5-4ba3-b40d-a1643b092b3d",
   "metadata": {},
   "outputs": [
    {
     "data": {
      "image/png": "[encoded data removed]",
      "text/plain": [
       "<Figure size 1500x600 with 2 Axes>"
      ]
     },
     "metadata": {},
     "output_type": "display_data"
    }
   ],
   "source": [
    "import seaborn as sns\n",
    "\n",
    "fig = plt.figure(figsize=(15, 6))\n",
    "ax = fig.add_subplot(1, 2, 1)\n",
    "sns.boxplot(data = df[cond], y=\"circonference_cm\", x=\"stade_de_developpement\")\n",
    "ax.grid(True, which = 'both')\n",
    "ax.set_title('distribution de la circonférence par stade de développement')\n",
    "\n",
    "ax = fig.add_subplot(1, 2, 2)\n",
    "sns.boxplot(data = df[cond], y=\"hauteur_m\", x=\"stade_de_developpement\")\n",
    "ax.grid(True, which = 'both')\n",
    "ax.set_title('distribution de la hauteur par stade de développement')\n",
    "\n",
    "plt.tight_layout()"
   ]
  },
  {
   "cell_type": "markdown",
   "id": "3546f75e-cac4-4755-870a-83caf981ab44",
   "metadata": {},
   "source": [
    "A partir de ces visualisations,  nous pouvons choisir des seuils de hauteur et de circonference pour determiner le stade de  developpement de l'arbre. "
   ]
  },
  {
   "cell_type": "markdown",
   "id": "40bcf124-c0e4-431b-8200-82dd126dd611",
   "metadata": {},
   "source": [
    "## Inferer les valeurs manquantes par une regression\n",
    "\n",
    "Construisons maintenant une regression logistique pour determiner le seuil de developpement de l'arbre en fonction de ses mensurations\n",
    "\n",
    "state_de_developpement ~ hauteur_n + circonference_cm\n"
   ]
  },
  {
   "cell_type": "code",
   "execution_count": 369,
   "id": "0a4eb953-b195-4f06-9e03-92e059948ae4",
   "metadata": {},
   "outputs": [
    {
     "name": "stdout",
     "output_type": "stream",
     "text": [
      "Score de la classification R^2:  0.7385321100917431\n"
     ]
    }
   ],
   "source": [
    "from sklearn.linear_model import LogisticRegression\n",
    "from sklearn.model_selection import train_test_split\n",
    "from sklearn.preprocessing import MinMaxScaler\n",
    "\n",
    "cond = ~df.stade_de_developpement.isna()\n",
    "\n",
    "X = df[cond][['hauteur_m','circonference_cm']]\n",
    "y = df[cond].stade_num\n",
    "\n",
    "# Scaling\n",
    "scaler = MinMaxScaler()\n",
    "X = scaler.fit_transform(X)\n",
    "\n",
    "X_train, X_test, y_train, y_test = train_test_split(X, y, random_state=0, test_size=0.20)\n",
    "\n",
    "clf = LogisticRegression(random_state = 0).fit(X_train,y_train)\n",
    "\n",
    "print(f\"Score de la classification R^2: \", clf.score(X_test, y_test))"
   ]
  },
  {
   "cell_type": "code",
   "execution_count": 370,
   "id": "ffddb873-ccf4-4247-bafe-7d27129f9870",
   "metadata": {},
   "outputs": [
    {
     "name": "stdout",
     "output_type": "stream",
     "text": [
      "              precision    recall  f1-score   support\n",
      "\n",
      "         1.0       0.80      0.71      0.75      1172\n",
      "         2.0       0.65      0.38      0.48      1628\n",
      "         3.0       0.74      0.96      0.84      4386\n",
      "         4.0       0.73      0.19      0.30       662\n",
      "\n",
      "    accuracy                           0.74      7848\n",
      "   macro avg       0.73      0.56      0.59      7848\n",
      "weighted avg       0.73      0.74      0.71      7848\n",
      "\n"
     ]
    }
   ],
   "source": [
    "# classification report\n",
    "\n",
    "from sklearn.metrics import classification_report\n",
    "\n",
    "y_pred = clf.predict(X_test)\n",
    "\n",
    "print(classification_report(y_test, y_pred))"
   ]
  },
  {
   "cell_type": "markdown",
   "id": "cd09f424-51ea-496b-9e05-ad614ab25dca",
   "metadata": {},
   "source": [
    "Regardons maintenant combien d'arbres dont le stade_de_developpement est manquant seraient classés par stade de developpement"
   ]
  },
  {
   "cell_type": "code",
   "execution_count": 371,
   "id": "f0410919-fbf6-487e-b067-640709fdd43c",
   "metadata": {},
   "outputs": [],
   "source": [
    "X_missing = scaler.transform( df[~cond][['hauteur_m','circonference_cm']]   )\n",
    "\n",
    "y_missing = clf.predict(X_missing)\n",
    "\n"
   ]
  },
  {
   "cell_type": "code",
   "execution_count": 372,
   "id": "d23d13a0-b2bd-406b-9669-fe920deca281",
   "metadata": {},
   "outputs": [
    {
     "data": {
      "text/plain": [
       "array([3., 1., 1., ..., 1., 1., 1.])"
      ]
     },
     "execution_count": 372,
     "metadata": {},
     "output_type": "execute_result"
    }
   ],
   "source": [
    "y_missing"
   ]
  },
  {
   "cell_type": "code",
   "execution_count": 373,
   "id": "4c5bde8e-77db-4a57-9437-f03ea5749281",
   "metadata": {},
   "outputs": [
    {
     "data": {
      "text/plain": [
       "array([2913,   23,  382,   32])"
      ]
     },
     "execution_count": 373,
     "metadata": {},
     "output_type": "execute_result"
    }
   ],
   "source": [
    "import numpy as np\n",
    "np.unique(y_missing, return_counts=True)[1]\n"
   ]
  },
  {
   "cell_type": "markdown",
   "id": "e7bd05f0-f543-4af0-a017-0f2404447a85",
   "metadata": {},
   "source": [
    "soit 2913 Jeune arbres, 24 Jeunes arbres (Adulte), 385 Adulte et 32 Mature"
   ]
  },
  {
   "cell_type": "markdown",
   "id": "5c11ded8-0d4a-44da-9519-145215ddb8cc",
   "metadata": {},
   "source": [
    "# Autres exemples de données manquantes\n",
    "\n",
    "Il se trouve que 1688 platanes ont une hauteur nulle (égale à 0) et 1592 ont une circonférence aussi égale à 0\n",
    "\n",
    "En ce qui concerne la hauteur, il se peut que cela soit dû à la discrétisation observée précédemment et donc au mode de mesure utilisé. \n",
    "\n",
    "Pour la circonférence par contre, ces valeurs nulles sont plus probablement des valeurs manquantes.\n",
    "\n",
    "Comment remplaceriez-vous ces valeurs nulles (=0) par des valeurs qui font sens ?\n",
    "\n"
   ]
  },
  {
   "cell_type": "code",
   "execution_count": 374,
   "id": "d36eb67d-78d9-44fa-9b65-7ca81e7a719e",
   "metadata": {},
   "outputs": [
    {
     "data": {
      "text/plain": [
       "(1688, 17)"
      ]
     },
     "execution_count": 374,
     "metadata": {},
     "output_type": "execute_result"
    }
   ],
   "source": [
    "df[df.hauteur_m ==  0].shape"
   ]
  },
  {
   "cell_type": "code",
   "execution_count": 375,
   "id": "97cddb16-b4e6-4611-b1eb-a41ddb21e5a4",
   "metadata": {},
   "outputs": [
    {
     "data": {
      "text/plain": [
       "(1592, 17)"
      ]
     },
     "execution_count": 375,
     "metadata": {},
     "output_type": "execute_result"
    }
   ],
   "source": [
    "df[df.circonference_cm ==  0].shape"
   ]
  },
  {
   "cell_type": "code",
   "execution_count": 376,
   "id": "07bd6193-17f4-4d5d-975e-74ebf3c652b0",
   "metadata": {},
   "outputs": [
    {
     "data": {
      "text/plain": [
       "(1591, 17)"
      ]
     },
     "execution_count": 376,
     "metadata": {},
     "output_type": "execute_result"
    }
   ],
   "source": [
    "df[(df.circonference_cm ==  0) & (df.hauteur_m == 0)].shape"
   ]
  },
  {
   "cell_type": "markdown",
   "id": "f16327db-adcc-4c3e-b16f-3dd874309092",
   "metadata": {},
   "source": [
    "99% des arbres dont la circonference est nulle ont aussi une hauteur nulle. On ne peut donc pas utiliser une des variables pour prédire l'autre. "
   ]
  },
  {
   "cell_type": "code",
   "execution_count": 377,
   "id": "69eff14b-66f1-4e8a-9ac2-4c9ce7e02312",
   "metadata": {},
   "outputs": [
    {
     "data": {
      "text/plain": [
       "stade_de_developpement\n",
       "NaN                    1546\n",
       "Adulte                   40\n",
       "Jeune (arbre)Adulte       4\n",
       "Jeune (arbre)             1\n",
       "Name: count, dtype: int64"
      ]
     },
     "execution_count": 377,
     "metadata": {},
     "output_type": "execute_result"
    }
   ],
   "source": [
    "df[(df.circonference_cm ==  0) & (df.hauteur_m == 0)].stade_de_developpement.value_counts(dropna = False)"
   ]
  },
  {
   "cell_type": "markdown",
   "id": "e0e76b87-b372-4f5f-b917-530fdddbece2",
   "metadata": {},
   "source": [
    "De plus la plupart ont aussi des données manquantes quant à leur stade de développement.\n",
    "\n",
    "Les autres variables, notamment celles de geo localisation ou relevant de la nature de l'arbre  sont bien renseignées."
   ]
  },
  {
   "cell_type": "code",
   "execution_count": 378,
   "id": "1d5b4559-6271-42de-b6dc-51b62ebcf340",
   "metadata": {},
   "outputs": [
    {
     "name": "stdout",
     "output_type": "stream",
     "text": [
      "<class 'pandas.core.frame.DataFrame'>\n",
      "Index: 1546 entries, 39239 to 42586\n",
      "Data columns (total 17 columns):\n",
      " #   Column                  Non-Null Count  Dtype  \n",
      "---  ------                  --------------  -----  \n",
      " 0   idbase                  1546 non-null   object \n",
      " 1   domanialite             1546 non-null   object \n",
      " 2   arrondissement          1546 non-null   object \n",
      " 3   complement_adresse      9 non-null      object \n",
      " 4   numero                  0 non-null      object \n",
      " 5   lieu_adresse            1546 non-null   object \n",
      " 6   idemplacement           1546 non-null   object \n",
      " 7   libelle_francais        1546 non-null   object \n",
      " 8   genre                   1546 non-null   object \n",
      " 9   espece                  1546 non-null   object \n",
      " 10  variete_oucultivar      0 non-null      object \n",
      " 11  circonference_cm        1546 non-null   float64\n",
      " 12  hauteur_m               1546 non-null   float64\n",
      " 13  stade_de_developpement  0 non-null      object \n",
      " 14  remarquable             496 non-null    object \n",
      " 15  geo_point_2d            1546 non-null   object \n",
      " 16  stade_num               0 non-null      float64\n",
      "dtypes: float64(3), object(14)\n",
      "memory usage: 217.4+ KB\n"
     ]
    }
   ],
   "source": [
    "df[ df.stade_de_developpement.isna() & (df.circonference_cm ==  0) & (df.hauteur_m == 0)].info()"
   ]
  },
  {
   "cell_type": "code",
   "execution_count": 379,
   "id": "22b698b6-8873-468b-af7b-bff80a6b7114",
   "metadata": {},
   "outputs": [
    {
     "data": {
      "text/html": [
       "<div>\n",
       "<style scoped>\n",
       "    .dataframe tbody tr th:only-of-type {\n",
       "        vertical-align: middle;\n",
       "    }\n",
       "\n",
       "    .dataframe tbody tr th {\n",
       "        vertical-align: top;\n",
       "    }\n",
       "\n",
       "    .dataframe thead th {\n",
       "        text-align: right;\n",
       "    }\n",
       "</style>\n",
       "<table border=\"1\" class=\"dataframe\">\n",
       "  <thead>\n",
       "    <tr style=\"text-align: right;\">\n",
       "      <th></th>\n",
       "      <th>idbase</th>\n",
       "      <th>domanialite</th>\n",
       "      <th>arrondissement</th>\n",
       "      <th>complement_adresse</th>\n",
       "      <th>numero</th>\n",
       "      <th>lieu_adresse</th>\n",
       "      <th>idemplacement</th>\n",
       "      <th>libelle_francais</th>\n",
       "      <th>genre</th>\n",
       "      <th>espece</th>\n",
       "      <th>variete_oucultivar</th>\n",
       "      <th>circonference_cm</th>\n",
       "      <th>hauteur_m</th>\n",
       "      <th>stade_de_developpement</th>\n",
       "      <th>remarquable</th>\n",
       "      <th>geo_point_2d</th>\n",
       "      <th>stade_num</th>\n",
       "    </tr>\n",
       "  </thead>\n",
       "  <tbody>\n",
       "    <tr>\n",
       "      <th>42272</th>\n",
       "      <td>162403</td>\n",
       "      <td>CIMETIERE</td>\n",
       "      <td>SEINE-SAINT-DENIS</td>\n",
       "      <td>NaN</td>\n",
       "      <td>NaN</td>\n",
       "      <td>CIMETIERE DE PANTIN / AVENUE DES PLATANES D''O...</td>\n",
       "      <td>A08200038011</td>\n",
       "      <td>Platane</td>\n",
       "      <td>Platanus</td>\n",
       "      <td>orientalis</td>\n",
       "      <td>NaN</td>\n",
       "      <td>0.0</td>\n",
       "      <td>0.0</td>\n",
       "      <td>NaN</td>\n",
       "      <td>NaN</td>\n",
       "      <td>48.90498741627846, 2.4052840516329304</td>\n",
       "      <td>NaN</td>\n",
       "    </tr>\n",
       "    <tr>\n",
       "      <th>41074</th>\n",
       "      <td>161434</td>\n",
       "      <td>CIMETIERE</td>\n",
       "      <td>VAL-DE-MARNE</td>\n",
       "      <td>NaN</td>\n",
       "      <td>NaN</td>\n",
       "      <td>CIMETIERE DE THIAIS / AVENUE TRANSVERSALE N2 /...</td>\n",
       "      <td>A15000090004</td>\n",
       "      <td>Platane</td>\n",
       "      <td>Platanus</td>\n",
       "      <td>orientalis</td>\n",
       "      <td>NaN</td>\n",
       "      <td>0.0</td>\n",
       "      <td>0.0</td>\n",
       "      <td>NaN</td>\n",
       "      <td>NaN</td>\n",
       "      <td>48.76022520366984, 2.3817397814979646</td>\n",
       "      <td>NaN</td>\n",
       "    </tr>\n",
       "    <tr>\n",
       "      <th>39516</th>\n",
       "      <td>160888</td>\n",
       "      <td>CIMETIERE</td>\n",
       "      <td>SEINE-SAINT-DENIS</td>\n",
       "      <td>NaN</td>\n",
       "      <td>NaN</td>\n",
       "      <td>CIMETIERE DE PANTIN / AVENUE DES PLATANES D''O...</td>\n",
       "      <td>A08100159010</td>\n",
       "      <td>Platane</td>\n",
       "      <td>Platanus</td>\n",
       "      <td>occidentalis</td>\n",
       "      <td>NaN</td>\n",
       "      <td>0.0</td>\n",
       "      <td>0.0</td>\n",
       "      <td>NaN</td>\n",
       "      <td>NaN</td>\n",
       "      <td>48.90677221853682, 2.4212057059656047</td>\n",
       "      <td>NaN</td>\n",
       "    </tr>\n",
       "    <tr>\n",
       "      <th>41306</th>\n",
       "      <td>160960</td>\n",
       "      <td>CIMETIERE</td>\n",
       "      <td>SEINE-SAINT-DENIS</td>\n",
       "      <td>NaN</td>\n",
       "      <td>NaN</td>\n",
       "      <td>CIMETIERE DE PANTIN / AVENUE DES PLATANES D''O...</td>\n",
       "      <td>A08100156005</td>\n",
       "      <td>Platane</td>\n",
       "      <td>Platanus</td>\n",
       "      <td>occidentalis</td>\n",
       "      <td>NaN</td>\n",
       "      <td>0.0</td>\n",
       "      <td>0.0</td>\n",
       "      <td>NaN</td>\n",
       "      <td>NaN</td>\n",
       "      <td>48.90486001909787, 2.4189557001016553</td>\n",
       "      <td>NaN</td>\n",
       "    </tr>\n",
       "    <tr>\n",
       "      <th>42080</th>\n",
       "      <td>160928</td>\n",
       "      <td>CIMETIERE</td>\n",
       "      <td>SEINE-SAINT-DENIS</td>\n",
       "      <td>NaN</td>\n",
       "      <td>NaN</td>\n",
       "      <td>CIMETIERE DE PANTIN / AVENUE DES PLATANES D''O...</td>\n",
       "      <td>A08100154003</td>\n",
       "      <td>Platane</td>\n",
       "      <td>Platanus</td>\n",
       "      <td>occidentalis</td>\n",
       "      <td>NaN</td>\n",
       "      <td>0.0</td>\n",
       "      <td>0.0</td>\n",
       "      <td>NaN</td>\n",
       "      <td>NaN</td>\n",
       "      <td>48.90581829682974, 2.420010667332934</td>\n",
       "      <td>NaN</td>\n",
       "    </tr>\n",
       "  </tbody>\n",
       "</table>\n",
       "</div>"
      ],
      "text/plain": [
       "       idbase domanialite     arrondissement complement_adresse numero   \n",
       "42272  162403   CIMETIERE  SEINE-SAINT-DENIS                NaN    NaN  \\\n",
       "41074  161434   CIMETIERE       VAL-DE-MARNE                NaN    NaN   \n",
       "39516  160888   CIMETIERE  SEINE-SAINT-DENIS                NaN    NaN   \n",
       "41306  160960   CIMETIERE  SEINE-SAINT-DENIS                NaN    NaN   \n",
       "42080  160928   CIMETIERE  SEINE-SAINT-DENIS                NaN    NaN   \n",
       "\n",
       "                                            lieu_adresse idemplacement   \n",
       "42272  CIMETIERE DE PANTIN / AVENUE DES PLATANES D''O...  A08200038011  \\\n",
       "41074  CIMETIERE DE THIAIS / AVENUE TRANSVERSALE N2 /...  A15000090004   \n",
       "39516  CIMETIERE DE PANTIN / AVENUE DES PLATANES D''O...  A08100159010   \n",
       "41306  CIMETIERE DE PANTIN / AVENUE DES PLATANES D''O...  A08100156005   \n",
       "42080  CIMETIERE DE PANTIN / AVENUE DES PLATANES D''O...  A08100154003   \n",
       "\n",
       "      libelle_francais     genre        espece variete_oucultivar   \n",
       "42272          Platane  Platanus    orientalis                NaN  \\\n",
       "41074          Platane  Platanus    orientalis                NaN   \n",
       "39516          Platane  Platanus  occidentalis                NaN   \n",
       "41306          Platane  Platanus  occidentalis                NaN   \n",
       "42080          Platane  Platanus  occidentalis                NaN   \n",
       "\n",
       "       circonference_cm  hauteur_m stade_de_developpement remarquable   \n",
       "42272               0.0        0.0                    NaN         NaN  \\\n",
       "41074               0.0        0.0                    NaN         NaN   \n",
       "39516               0.0        0.0                    NaN         NaN   \n",
       "41306               0.0        0.0                    NaN         NaN   \n",
       "42080               0.0        0.0                    NaN         NaN   \n",
       "\n",
       "                                geo_point_2d  stade_num  \n",
       "42272  48.90498741627846, 2.4052840516329304        NaN  \n",
       "41074  48.76022520366984, 2.3817397814979646        NaN  \n",
       "39516  48.90677221853682, 2.4212057059656047        NaN  \n",
       "41306  48.90486001909787, 2.4189557001016553        NaN  \n",
       "42080   48.90581829682974, 2.420010667332934        NaN  "
      ]
     },
     "execution_count": 379,
     "metadata": {},
     "output_type": "execute_result"
    }
   ],
   "source": [
    "df[ df.stade_de_developpement.isna() & (df.circonference_cm ==  0) & (df.hauteur_m == 0)].sample(n = 5, random_state = 88)"
   ]
  },
  {
   "cell_type": "code",
   "execution_count": 380,
   "id": "ffe81021-37ca-4842-a8db-aa13f1e758a7",
   "metadata": {},
   "outputs": [
    {
     "data": {
      "text/plain": [
       "domanialite\n",
       "CIMETIERE       1465\n",
       "Jardin            53\n",
       "Alignement        22\n",
       "PERIPHERIQUE       6\n",
       "Name: count, dtype: int64"
      ]
     },
     "execution_count": 380,
     "metadata": {},
     "output_type": "execute_result"
    }
   ],
   "source": [
    "df[ df.stade_de_developpement.isna() & (df.circonference_cm ==  0) & (df.hauteur_m == 0)].domanialite.value_counts(dropna = False)"
   ]
  },
  {
   "cell_type": "code",
   "execution_count": 381,
   "id": "704cb131-dbad-4e0e-95ea-d96c6ed9d442",
   "metadata": {},
   "outputs": [
    {
     "data": {
      "text/plain": [
       "lieu_adresse\n",
       "CIMETIERE DE BAGNEUX / AVENUE PRINCIPALE / DIV 98                  23\n",
       "CIMETIERE DE BAGNEUX / AVENUE PRINCIPALE / DIV 68                  22\n",
       "CIMETIERE DE BAGNEUX / AVENUE PRINCIPALE / DIV 20                  21\n",
       "CIMETIERE DE BAGNEUX / AVENUE PRINCIPALE / DIV 21                  21\n",
       "CIMETIERE DE BAGNEUX / AVENUE PRINCIPALE / DIV 104                 20\n",
       "CIMETIERE DE BAGNEUX / AVENUE PRINCIPALE / DIV 99                  20\n",
       "CIMETIERE DE BAGNEUX / AVENUE PRINCIPALE / DIV 91                  20\n",
       "AVENUE DUQUESNE                                                    20\n",
       "CIMETIERE DE BAGNEUX / AVENUE PRINCIPALE / DIV 76                  20\n",
       "CIMETIERE DE BAGNEUX / AVENUE PRINCIPALE / DIV 52                  19\n",
       "CIMETIERE DE BAGNEUX / AVENUE PRINCIPALE / DIV 84                  19\n",
       "CIMETIERE DE BAGNEUX / AVENUE PRINCIPALE / DIV 69                  19\n",
       "CIMETIERE DE BAGNEUX / AVENUE PRINCIPALE / DIV 92                  19\n",
       "CIMETIERE DE BAGNEUX / AVENUE PRINCIPALE / DIV 60                  19\n",
       "CIMETIERE DE BAGNEUX / AVENUE PRINCIPALE / DIV 77                  18\n",
       "CIMETIERE DE BAGNEUX / AVENUE PRINCIPALE / DIV 105                 17\n",
       "CIMETIERE DE BAGNEUX / AVENUE PRINCIPALE / DIV 85                  15\n",
       "CIMETIERE DE BAGNEUX / AVENUE PRINCIPALE / DIV 61                  15\n",
       "CIMETIERE DE BAGNEUX / AVENUE PRINCIPALE / DIV 44                  14\n",
       "CIMETIERE DE PANTIN / AVENUE DES PLATANES D''ORIENT / DIV 126      12\n",
       "JARDIN ANAIS NIN / 2 RUE JEAN OBERLE                               12\n",
       "CIMETIERE DE BAGNEUX / AVENUE PRINCIPALE / DIV 28                  12\n",
       "CIMETIERE DE PANTIN / AVENUE DES PLATANES D''ORIENT / DIV 99       11\n",
       "CIMETIERE DE BAGNEUX / AVENUE PRINCIPALE / DIV 53                  11\n",
       "CIMETIERE DE PANTIN / AVENUE DES PLATANES D''ORIENT / DIV 127      11\n",
       "CIMETIERE DE PANTIN / AVENUE DES PLATANES D''ORIENT / DIV 37       10\n",
       "CIMETIERE DE THIAIS / AVENUE CENTRALE / DIV 70                     10\n",
       "CIMETIERE DE THIAIS / AVENUE TRANSVERSALE N2 / DIV 79              10\n",
       "CIMETIERE DE THIAIS / AVENUE TRANSVERSALE N3 / DIV 112             10\n",
       "CIMETIERE DE BAGNEUX / AVENUE PRINCIPALE / DIV 29                  10\n",
       "CIMETIERE DE PANTIN / AVENUE DES PLATANES D''ORIENT / DIV 112      10\n",
       "CIMETIERE DE THIAIS / AVENUE TRANSVERSALE N3 / DIV 115             10\n",
       "CIMETIERE DE THIAIS / AVENUE TRANSVERSALE N2 / DIV 77              10\n",
       "CIMETIERE DE THIAIS / AVENUE TRANSVERSALE N3 / DIV 113             10\n",
       "CIMETIERE DE THIAIS / AVENUE TRANSVERSALE N3 / DIV 107             10\n",
       "CIMETIERE DE THIAIS / AVENUE TRANSVERSALE N3 / DIV 117             10\n",
       "CIMETIERE DE PANTIN / AVENUE DES PLATANES D''OCCIDENT / DIV 159    10\n",
       "CIMETIERE DE THIAIS / AVENUE CENTRALE / DIV 103                    10\n",
       "CIMETIERE DE THIAIS / AVENUE CENTRALE / DIV 62                     10\n",
       "CIMETIERE DE THIAIS / AVENUE TRANSVERSALE N2 / DIV 85              10\n",
       "Name: count, dtype: int64"
      ]
     },
     "execution_count": 381,
     "metadata": {},
     "output_type": "execute_result"
    }
   ],
   "source": [
    "df[ df.stade_de_developpement.isna() & (df.circonference_cm ==  0) & (df.hauteur_m == 0)].lieu_adresse.value_counts(dropna = False).head(40)"
   ]
  },
  {
   "cell_type": "markdown",
   "id": "059082b0-1d6d-4e10-8aae-9b1d2892937a",
   "metadata": {},
   "source": [
    "la plupart de ces  arbres sont dans des cimetieres.  Et il semble que google maps n'offre pas de street view pour ces lieux: CIMETIERE DE BAGNEUX  ou CIMETIERE DE THIAIS. Donc pas moyen de savoir si ces arbres sont par exemple jeunes ou remarquables.\n",
    "\n",
    "\n",
    "Donc à  ce stade il semble que nous n'ayons pas d'autre choix que de supprimer ces echantillons. Il n'est pas possible  d'inferer les valeurs manquantes à partir des autres valeurs ou de données complementaires."
   ]
  },
  {
   "cell_type": "markdown",
   "id": "8dcbf848-55a6-403d-8027-244e765d6dc9",
   "metadata": {},
   "source": [
    "# Outliers\n",
    "\n",
    "Regardons les outliers au niveau des mensurations des arbres"
   ]
  },
  {
   "cell_type": "code",
   "execution_count": 382,
   "id": "03679f7f-59a5-44f6-a5e8-40b20a955d3f",
   "metadata": {},
   "outputs": [
    {
     "name": "stderr",
     "output_type": "stream",
     "text": [
      "/var/folders/31/b9pwgxyd4rz86p81hzwb44bm0000gn/T/ipykernel_25236/3720863360.py:2: DtypeWarning: Columns (0,4) have mixed types. Specify dtype option on import or set low_memory=False.\n",
      "  df = pd.read_csv(dataset_url)\n"
     ]
    }
   ],
   "source": [
    "dataset_url = \"https://raw.githubusercontent.com/OpenClassrooms-Student-Center/8063076-Initiez-vous-au-Machine-Learning/master/data/paris-arbres-clean-2023-09-10.csv\"\n",
    "df = pd.read_csv(dataset_url)\n",
    "df = df[df.libelle_francais == 'Platane'].copy()\n"
   ]
  },
  {
   "cell_type": "code",
   "execution_count": 383,
   "id": "c4d66187-8e1c-417b-afb7-058cd778baed",
   "metadata": {},
   "outputs": [
    {
     "data": {
      "text/plain": [
       "Text(0.5, 1.0, 'Platanes')"
      ]
     },
     "execution_count": 383,
     "metadata": {},
     "output_type": "execute_result"
    },
    {
     "data": {
      "image/png": "[encoded data removed]",
      "text/plain": [
       "<Figure size 600x600 with 1 Axes>"
      ]
     },
     "metadata": {},
     "output_type": "display_data"
    }
   ],
   "source": [
    "\n",
    "fig = plt.figure(figsize=(6, 6))\n",
    "plt.plot(df.circonference_cm, df.hauteur_m, '.')\n",
    "plt.grid()\n",
    "plt.xlabel('circonférence (cm)')\n",
    "plt.ylabel('hauteur (m)')\n",
    "plt.title('Platanes')\n"
   ]
  },
  {
   "cell_type": "code",
   "execution_count": 384,
   "id": "065b53f8-e781-4231-b980-76531d41ce92",
   "metadata": {},
   "outputs": [],
   "source": [
    "\n",
    "df = df[(df.circonference_cm < 1000) & (df.hauteur_m < 100)].copy()"
   ]
  },
  {
   "cell_type": "markdown",
   "id": "819de932-8001-4719-b95c-920c6ed269ca",
   "metadata": {},
   "source": [
    "## Méthode du Z-score\n",
    "\n",
    "Le z-score mesure de combien d'écart-types une valeur est éloigné de la moyenne de la variable. \n",
    "\n",
    "On considère qu'un z-score supérieur à 2 ou 3 correspond à un outlier."
   ]
  },
  {
   "cell_type": "code",
   "execution_count": 385,
   "id": "94278c49-73be-4ea6-926b-d15cae116f2d",
   "metadata": {},
   "outputs": [],
   "source": [
    "from scipy import stats\n",
    "df['z_circonference'] = stats.zscore(df.circonference_cm)\n",
    "df['z_hauteur'] = stats.zscore(df.hauteur_m)"
   ]
  },
  {
   "cell_type": "code",
   "execution_count": 386,
   "id": "66d7d888-18eb-4272-bd9a-4e7c8a85152f",
   "metadata": {},
   "outputs": [
    {
     "data": {
      "text/plain": [
       "Text(0.5, 1.0, 'hauteur - z-score')"
      ]
     },
     "execution_count": 386,
     "metadata": {},
     "output_type": "execute_result"
    },
    {
     "data": {
      "image/png": "[encoded data removed]",
      "text/plain": [
       "<Figure size 1200x600 with 2 Axes>"
      ]
     },
     "metadata": {},
     "output_type": "display_data"
    }
   ],
   "source": [
    "fig = plt.figure(figsize=(12, 6))\n",
    "ax = fig.add_subplot(1, 2, 1)\n",
    "df.z_circonference.hist(bins = 100)\n",
    "ax.grid(True, which = 'both')\n",
    "ax.set_title('circonférence - z-score')\n",
    "ax = fig.add_subplot(1, 2, 2)\n",
    "df.z_hauteur.hist(bins = 100)\n",
    "ax.grid(True, which = 'both')\n",
    "ax.set_title('hauteur - z-score')\n"
   ]
  },
  {
   "cell_type": "markdown",
   "id": "c56e8d52-00cf-4403-86e2-56e5115109ca",
   "metadata": {},
   "source": [
    "Donc en fonction du seuil d'ecart-type par rapport a la moyenne de la variable on aura un nombre plus ou moins important d'outliers\n"
   ]
  },
  {
   "cell_type": "code",
   "execution_count": 387,
   "id": "7d3f1d43-2998-413d-80aa-81b52a960ed5",
   "metadata": {},
   "outputs": [
    {
     "name": "stdout",
     "output_type": "stream",
     "text": [
      "2 ecart type - circonference: 1429 arbres\tcirconference max: 254.0 cm\n",
      "2 ecart type - hauteur: 793 arbres\thauteur max: 25.0 m\n",
      "\n",
      "3 ecart type - circonference: 349 arbres\tcirconference max: 327.0 cm\n",
      "3 ecart type - hauteur: 33 arbres\thauteur max: 32.0 m\n"
     ]
    }
   ],
   "source": [
    "# 2 ecart type\n",
    "print(f\"2 ecart type - circonference:\", df[df.z_circonference > 2].shape[0], \"arbres\\tcirconference max:\", np.max(df[df.z_circonference < 2].circonference_cm) , \"cm\" )\n",
    "print(f\"2 ecart type - hauteur:\", df[df.z_hauteur > 2].shape[0], \"arbres\\thauteur max:\", np.max(df[df.z_hauteur < 2].hauteur_m) , \"m\" )\n",
    "print()\n",
    "# 3 ecart type\n",
    "print(f\"3 ecart type - circonference:\", df[df.z_circonference > 3].shape[0], \"arbres\\tcirconference max:\", np.min(df[df.z_circonference > 3].circonference_cm) , \"cm\" )\n",
    "print(f\"3 ecart type - hauteur:\", df[df.z_hauteur > 3].shape[0], \"arbres\\thauteur max:\", np.min(df[df.z_hauteur > 3].hauteur_m) , \"m\" )\n",
    "\n"
   ]
  },
  {
   "cell_type": "markdown",
   "id": "76d55d6f-362b-4823-9c7b-180be7ae45bd",
   "metadata": {},
   "source": [
    "## Methode IQR"
   ]
  },
  {
   "cell_type": "code",
   "execution_count": 388,
   "id": "f233d8e7-2bac-4ef7-a8af-1f9c9dbb8ed5",
   "metadata": {},
   "outputs": [
    {
     "name": "stdout",
     "output_type": "stream",
     "text": [
      "limite_haute hauteur: 30.5\n",
      "limite_basse hauteur: -5.5\n"
     ]
    }
   ],
   "source": [
    "import numpy as np\n",
    "iqr = np.quantile(df.hauteur_m, q=[0.25, 0.75])\n",
    "limite_basse = iqr[0] - 1.5*(iqr[1] - iqr[0])\n",
    "limite_haute = iqr[1] + 1.5*(iqr[1] - iqr[0])\n",
    "\n",
    "print(\"limite_haute hauteur:\", limite_haute)\n",
    "print(\"limite_basse hauteur:\", limite_basse)\n"
   ]
  },
  {
   "cell_type": "code",
   "execution_count": 389,
   "id": "af3a042c-e564-42b2-9ad5-25a196b298f4",
   "metadata": {},
   "outputs": [
    {
     "name": "stdout",
     "output_type": "stream",
     "text": [
      "limite_haute circonference: 305.0\n",
      "limite_basse circonference: -95.0\n"
     ]
    }
   ],
   "source": [
    "iqr = np.quantile(df.circonference_cm, q=[0.25, 0.75])\n",
    "limite_basse = iqr[0] - 1.5*(iqr[1] - iqr[0])\n",
    "limite_haute = iqr[1] + 1.5*(iqr[1] - iqr[0])\n",
    "\n",
    "print(\"limite_haute circonference:\", limite_haute)\n",
    "print(\"limite_basse circonference:\", limite_basse)\n"
   ]
  },
  {
   "cell_type": "markdown",
   "id": "287ffd66-de09-4ec5-b61b-320bd7642bd2",
   "metadata": {},
   "source": [
    "## Traitement des outliers\n",
    "\n",
    "Montrons que prendre le log de la variable permet de reduire fortement sa dispersion et donc de conserver les valeurs outliers lorsque l'on les considère valides.\n",
    "\n",
    "La variable circonference_cm semble avoir plus d'outliers.\n",
    "\n"
   ]
  },
  {
   "cell_type": "code",
   "execution_count": 390,
   "id": "185acbf5-b212-4fed-8131-0d46beb8a90a",
   "metadata": {},
   "outputs": [
    {
     "name": "stdout",
     "output_type": "stream",
     "text": [
      "2 ecart type - circonference: 2 arbres\tcirconference max: 740.0 cm\n",
      "3 ecart type - circonference: 0 arbres\tcirconference max: nan\n"
     ]
    }
   ],
   "source": [
    "# toujours rajouter 1 a une variable positive quand on prend son log pour eviter le log(0) \n",
    "df['log_circonference'] = np.log(df.circonference_cm + 1)\n",
    "df['z_circonference_log'] = stats.zscore(df.log_circonference)\n",
    "\n",
    "# z-score\n",
    "print(f\"2 ecart type - circonference:\", df[df.z_circonference_log > 2].shape[0], \"arbres\\tcirconference max:\", np.min(df[df.z_circonference_log > 2].circonference_cm) , \"cm\" )\n",
    "print(f\"3 ecart type - circonference:\", df[df.z_circonference_log > 3].shape[0], \"arbres\\tcirconference max:\", np.min(df[df.z_circonference_log > 3].circonference_cm)  )\n"
   ]
  },
  {
   "cell_type": "markdown",
   "id": "03d6c63c-175b-4ef3-a0a8-4b6fd6174171",
   "metadata": {},
   "source": [
    "Il n'y a plus que 2 arbres  qui soient au dela de 2 ecart type.\n",
    "\n",
    "Regardons aussi les historgrammes de circonference-cm et de son log"
   ]
  },
  {
   "cell_type": "code",
   "execution_count": 391,
   "id": "44208291-da74-497c-a9bb-fca7857d56d9",
   "metadata": {},
   "outputs": [
    {
     "data": {
      "text/plain": [
       "Text(0.5, 1.0, 'log circonference')"
      ]
     },
     "execution_count": 391,
     "metadata": {},
     "output_type": "execute_result"
    },
    {
     "data": {
      "image/png": "[encoded data removed]",
      "text/plain": [
       "<Figure size 1200x600 with 2 Axes>"
      ]
     },
     "metadata": {},
     "output_type": "display_data"
    }
   ],
   "source": [
    "fig = plt.figure(figsize=(12, 6))\n",
    "ax = fig.add_subplot(1, 2, 1)\n",
    "df.circonference_cm.hist(bins = 100)\n",
    "ax.grid(True, which = 'both')\n",
    "ax.set_title('circonférence')\n",
    "ax = fig.add_subplot(1, 2, 2)\n",
    "df.log_circonference.hist(bins = 100)\n",
    "ax.grid(True, which = 'both')\n",
    "ax.set_title('log circonference')\n"
   ]
  },
  {
   "cell_type": "markdown",
   "id": "addb9248-0200-4b2f-9acf-35b63ee915f1",
   "metadata": {},
   "source": [
    "on observe bien que l'histogramme est plus concentré autour de la valeur moyenne de la variable. L'effet des outliers est donc presque entièrement compemsé."
   ]
  },
  {
   "cell_type": "markdown",
   "id": "c68c0cde-8463-4789-81d7-08f1a5e24b3a",
   "metadata": {},
   "source": [
    "##  Discretiser la variable\n",
    "\n",
    "En utilisant les methodes qcut et cut de pandas\n",
    "\n",
    "1. qcut va scinder la variable en intervalles de volume sensiblement égales en fonction de leur fréquence \n",
    "\n",
    "\n"
   ]
  },
  {
   "cell_type": "code",
   "execution_count": 392,
   "id": "37e274a3-b436-4efd-92d4-611ea0ae9c03",
   "metadata": {},
   "outputs": [],
   "source": [
    "df['hauteur_qcut'] = pd.qcut(df.hauteur_m, 4, labels=[1,2,3, 4])\n",
    "data = df.hauteur_qcut.value_counts()"
   ]
  },
  {
   "cell_type": "code",
   "execution_count": 393,
   "id": "c1cfe8c2-36ec-499d-8de0-dc2d3cdf66e8",
   "metadata": {},
   "outputs": [
    {
     "data": {
      "text/plain": [
       "<BarContainer object of 4 artists>"
      ]
     },
     "execution_count": 393,
     "metadata": {},
     "output_type": "execute_result"
    },
    {
     "data": {
      "image/png": "[encoded data removed]",
      "text/plain": [
       "<Figure size 640x480 with 1 Axes>"
      ]
     },
     "metadata": {},
     "output_type": "display_data"
    }
   ],
   "source": [
    "fig, ax = plt.subplots()\n",
    "ax.bar(data.index, data.values, label= data.index)"
   ]
  },
  {
   "cell_type": "markdown",
   "id": "5f988ef6-bd86-457e-bde5-409873a9ff1d",
   "metadata": {},
   "source": [
    "2. cut va scinder les données en intervalles de meme taille "
   ]
  },
  {
   "cell_type": "code",
   "execution_count": 394,
   "id": "08dc938a-915c-4d10-b43f-d60a5d076039",
   "metadata": {},
   "outputs": [],
   "source": [
    "df['hauteur_cut'] = pd.cut(df.hauteur_m, 3, labels=[\"petit\", \"moyen\", \"grand\"])\n",
    "data = df.hauteur_cut.value_counts()\n"
   ]
  },
  {
   "cell_type": "code",
   "execution_count": 395,
   "id": "96a5e28e-313a-4031-8d34-30bde0de8898",
   "metadata": {},
   "outputs": [
    {
     "data": {
      "text/plain": [
       "<BarContainer object of 3 artists>"
      ]
     },
     "execution_count": 395,
     "metadata": {},
     "output_type": "execute_result"
    },
    {
     "data": {
      "image/png": "[encoded data removed]",
      "text/plain": [
       "<Figure size 640x480 with 1 Axes>"
      ]
     },
     "metadata": {},
     "output_type": "display_data"
    }
   ],
   "source": [
    "fig, ax = plt.subplots()\n",
    "ax.bar(data.index, data.values, label= data.index)"
   ]
  },
  {
   "cell_type": "markdown",
   "id": "99bd572b-231c-4a84-bb49-55b2dc08dd5b",
   "metadata": {},
   "source": [
    "# Recapitulons les transformations sur tout le corpus\n",
    "\n",
    "- MinMax Scaler\n",
    "- Z-score scaler\n",
    "- Log \n"
   ]
  },
  {
   "cell_type": "code",
   "execution_count": 396,
   "id": "f9608585-7b3f-4b4d-bf73-3b847bdbda19",
   "metadata": {},
   "outputs": [
    {
     "name": "stderr",
     "output_type": "stream",
     "text": [
      "/var/folders/31/b9pwgxyd4rz86p81hzwb44bm0000gn/T/ipykernel_25236/274982043.py:1: DtypeWarning: Columns (0,4) have mixed types. Specify dtype option on import or set low_memory=False.\n",
      "  df = pd.read_csv(dataset_url)\n"
     ]
    }
   ],
   "source": [
    "df = pd.read_csv(dataset_url)\n",
    "df = df[df.libelle_francais == 'Platane'].copy()"
   ]
  },
  {
   "cell_type": "code",
   "execution_count": 397,
   "id": "a8ebe443-1a05-4e7f-a1ba-6fa43079e5e2",
   "metadata": {},
   "outputs": [
    {
     "data": {
      "text/plain": [
       "(39135, 16)"
      ]
     },
     "execution_count": 397,
     "metadata": {},
     "output_type": "execute_result"
    }
   ],
   "source": [
    "# enlevons les données manquantes\n",
    "\n",
    "df = df[~df.stade_de_developpement.isna() & (df.circonference_cm !=  0) & (df.hauteur_m != 0) & (df.circonference_cm < 1000) & (df.hauteur_m < 100)].copy()\n",
    "df.shape"
   ]
  },
  {
   "cell_type": "code",
   "execution_count": 398,
   "id": "239fce80-9edf-4279-a39d-30646544ec58",
   "metadata": {},
   "outputs": [],
   "source": [
    "# MinMax\n",
    "\n",
    "\n",
    "from sklearn.preprocessing import StandardScaler, MinMaxScaler\n",
    "minmax_scaler = MinMaxScaler()\n",
    "df['hauteur_minmax'] = minmax_scaler.fit_transform(df.hauteur_m.values.reshape(-1, 1))\n",
    "df['circonference_minmax'] = minmax_scaler.fit_transform(df.circonference_cm.values.reshape(-1, 1))\n",
    "\n",
    "# Z-score\n",
    "standard_scaler = StandardScaler()\n",
    "df['hauteur_standard'] = standard_scaler.fit_transform(df.hauteur_m.values.reshape(-1, 1))\n",
    "df['circonference_standard'] = standard_scaler.fit_transform(df.circonference_cm.values.reshape(-1, 1))\n",
    "\n",
    "# log\n",
    "df['circonference_log'] = np.log(df.circonference_cm + 1)\n",
    "df['hauteur_log'] = np.log(df.hauteur_m + 1)"
   ]
  },
  {
   "cell_type": "code",
   "execution_count": 399,
   "id": "118812bb-0acb-4635-b1dc-c4a598b132d7",
   "metadata": {},
   "outputs": [
    {
     "data": {
      "image/png": "[encoded data removed]",
      "text/plain": [
       "<Figure size 1200x1200 with 6 Axes>"
      ]
     },
     "metadata": {},
     "output_type": "display_data"
    }
   ],
   "source": [
    "\n",
    "\n",
    "fig = plt.figure(figsize=(12, 12))\n",
    "ax = fig.add_subplot(3,2, 1)\n",
    "ax.hist(df.hauteur_minmax, bins = 100)\n",
    "ax.set_title('Hauteur MinMax')\n",
    "ax.grid()\n",
    "\n",
    "ax = fig.add_subplot(3,2, 2)\n",
    "ax.hist(df.circonference_minmax, bins = 100)\n",
    "ax.set_title('Circonférence MinMax')\n",
    "ax.grid()\n",
    "\n",
    "ax = fig.add_subplot(3,2, 3)\n",
    "ax.hist(df.hauteur_standard, bins = 100)\n",
    "ax.set_title('Hauteur Z-score')\n",
    "ax.grid()\n",
    "\n",
    "ax = fig.add_subplot(3,2, 4)\n",
    "ax.hist(df.circonference_standard, bins = 100)\n",
    "ax.set_title('Circonférence Z-score')\n",
    "ax.grid()\n",
    "\n",
    "ax = fig.add_subplot(3,2, 5)\n",
    "ax.hist(df.hauteur_log, bins = 100)\n",
    "ax.set_title('Hauteur log')\n",
    "ax.grid()\n",
    "\n",
    "ax = fig.add_subplot(3,2, 6)\n",
    "ax.hist(df.circonference_log, bins = 100)\n",
    "ax.set_title('Circonférence log')\n",
    "ax.grid()\n",
    "\n",
    "plt.show()\n"
   ]
  },
  {
   "cell_type": "code",
   "execution_count": null,
   "id": "6e8aaae3-c2fe-476e-ba61-981a5f71564b",
   "metadata": {},
   "outputs": [],
   "source": []
  }
 ],
 "metadata": {
  "kernelspec": {
   "display_name": "Python 3 (ipykernel)",
   "language": "python",
   "name": "python3"
  },
  "language_info": {
   "codemirror_mode": {
    "name": "ipython",
    "version": 3
   },
   "file_extension": ".py",
   "mimetype": "text/x-python",
   "name": "python",
   "nbconvert_exporter": "python",
   "pygments_lexer": "ipython3",
   "version": "3.11.3"
  }
 },
 "nbformat": 4,
 "nbformat_minor": 5
}
