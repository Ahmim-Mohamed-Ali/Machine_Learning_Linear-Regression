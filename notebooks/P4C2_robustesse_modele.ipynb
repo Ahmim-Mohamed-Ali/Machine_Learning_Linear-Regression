{
 "cells": [
  {
   "cell_type": "markdown",
   "id": "291c2ae9-f64e-4062-af8b-6fba9b5396ca",
   "metadata": {},
   "source": [
    "# P4C2 - Augmentez la robustesse de vos modèles\n",
    "\n",
    "[![Open In Colab](https://colab.research.google.com/assets/colab-badge.svg)](https://colab.research.google.com/github/OpenClassrooms-Student-Center/8063076-Initiez-vous-au-Machine-Learning/blob/master/notebooks/P4C2_robustesse_modele.ipynb)\n",
    "\n",
    "Dans ce notebook, nous allons rendre les modèles plus robustes gràce à 2 techniques\n",
    "\n",
    "- la régularisation\n",
    "- la validation croisée\n",
    "\n",
    "Nous travaillons sur le dataset des arbres de Paris\n",
    "\n",
    "Vous trouverez les versions suivantes du datasets\n",
    "\n",
    "- sur le site [opendata de Paris](https://opendata.paris.fr/explore/dataset/les-arbres/information)\n",
    "- version [brute](https://github.com/OpenClassrooms-Student-Center/8063076-Initiez-vous-au-Machine-Learning/blob/master/data/paris-arbres-2023-09-07.csv) extraite le 10-09-2023, le séparateur est ';'\n",
    "- version [exploitable](https://github.com/OpenClassrooms-Student-Center/8063076-Initiez-vous-au-Machine-Learning/blob/master/data/paris-arbres-clean-2023-09-10.csv): les colonnes ont été renommées, le séparateur est ','\n",
    "- version [numérisée](https://raw.githubusercontent.com/OpenClassrooms-Student-Center/8063076-Initiez-vous-au-Machine-Learning/master/data/paris-arbres-numerical-2023-09-10.csv): les colonnes ont été renommées, le séparateur est ','\n",
    "\n",
    "Ici nous travaillons sur cette version _numérisée_\n"
   ]
  },
  {
   "cell_type": "markdown",
   "id": "b07fcf05-bd5f-4ca8-be3f-97f8be6e6329",
   "metadata": {},
   "source": [
    "# Compensez l'overfit avec la régularisation \n",
    "\n",
    "Pour montrer la regularisation avec Ridge il faudrait\n",
    "\n",
    "- creer un dataset lineaire y = ax + bx^2 ou x est N(0,std) et  std est faible\n",
    "- le modele qui overfit est ridge sans regularisation avec x, x^2, ... x^N. see from sklearn.preprocessing import PolynomialFeatures \n",
    "- puis demo, ajout regularisation permet de compenser l'overfit\n",
    "\n",
    "voir\n",
    "\n",
    "- https://www.kaggle.com/code/jonasschroeder/regularization-examples-ridge-lasso-l1-l2\n",
    "- https://www.analyticsvidhya.com/blog/2016/01/ridge-lasso-regression-python-complete-tutorial/\n"
   ]
  },
  {
   "cell_type": "code",
   "execution_count": null,
   "id": "f4d3ecea-908c-4f53-9451-597acf19ea0d",
   "metadata": {},
   "outputs": [],
   "source": []
  }
 ],
 "metadata": {
  "kernelspec": {
   "display_name": "Python 3 (ipykernel)",
   "language": "python",
   "name": "python3"
  },
  "language_info": {
   "codemirror_mode": {
    "name": "ipython",
    "version": 3
   },
   "file_extension": ".py",
   "mimetype": "text/x-python",
   "name": "python",
   "nbconvert_exporter": "python",
   "pygments_lexer": "ipython3",
   "version": "3.11.3"
  }
 },
 "nbformat": 4,
 "nbformat_minor": 5
}
